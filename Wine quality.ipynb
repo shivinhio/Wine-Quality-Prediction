{
 "cells": [
  {
   "cell_type": "code",
   "execution_count": 1,
   "metadata": {},
   "outputs": [],
   "source": [
    "import pandas as pd\n",
    "from pandas import Series,DataFrame\n",
    "import numpy as np"
   ]
  },
  {
   "cell_type": "code",
   "execution_count": 2,
   "metadata": {},
   "outputs": [],
   "source": [
    "import matplotlib.pyplot as plt\n",
    "import seaborn as sns\n",
    "sns.set_style('darkgrid')\n",
    "%matplotlib inline"
   ]
  },
  {
   "cell_type": "code",
   "execution_count": 3,
   "metadata": {},
   "outputs": [],
   "source": [
    "df=pd.read_csv(r'C:\\Users\\dear\\Desktop\\Data\\winequality-red.csv')"
   ]
  },
  {
   "cell_type": "code",
   "execution_count": 4,
   "metadata": {},
   "outputs": [
    {
     "data": {
      "text/html": [
       "<div>\n",
       "<style scoped>\n",
       "    .dataframe tbody tr th:only-of-type {\n",
       "        vertical-align: middle;\n",
       "    }\n",
       "\n",
       "    .dataframe tbody tr th {\n",
       "        vertical-align: top;\n",
       "    }\n",
       "\n",
       "    .dataframe thead th {\n",
       "        text-align: right;\n",
       "    }\n",
       "</style>\n",
       "<table border=\"1\" class=\"dataframe\">\n",
       "  <thead>\n",
       "    <tr style=\"text-align: right;\">\n",
       "      <th></th>\n",
       "      <th>fixed acidity</th>\n",
       "      <th>volatile acidity</th>\n",
       "      <th>citric acid</th>\n",
       "      <th>residual sugar</th>\n",
       "      <th>chlorides</th>\n",
       "      <th>free sulfur dioxide</th>\n",
       "      <th>total sulfur dioxide</th>\n",
       "      <th>density</th>\n",
       "      <th>pH</th>\n",
       "      <th>sulphates</th>\n",
       "      <th>alcohol</th>\n",
       "      <th>quality</th>\n",
       "    </tr>\n",
       "  </thead>\n",
       "  <tbody>\n",
       "    <tr>\n",
       "      <th>0</th>\n",
       "      <td>7.4</td>\n",
       "      <td>0.70</td>\n",
       "      <td>0.00</td>\n",
       "      <td>1.9</td>\n",
       "      <td>0.076</td>\n",
       "      <td>11.0</td>\n",
       "      <td>34.0</td>\n",
       "      <td>0.9978</td>\n",
       "      <td>3.51</td>\n",
       "      <td>0.56</td>\n",
       "      <td>9.4</td>\n",
       "      <td>5</td>\n",
       "    </tr>\n",
       "    <tr>\n",
       "      <th>1</th>\n",
       "      <td>7.8</td>\n",
       "      <td>0.88</td>\n",
       "      <td>0.00</td>\n",
       "      <td>2.6</td>\n",
       "      <td>0.098</td>\n",
       "      <td>25.0</td>\n",
       "      <td>67.0</td>\n",
       "      <td>0.9968</td>\n",
       "      <td>3.20</td>\n",
       "      <td>0.68</td>\n",
       "      <td>9.8</td>\n",
       "      <td>5</td>\n",
       "    </tr>\n",
       "    <tr>\n",
       "      <th>2</th>\n",
       "      <td>7.8</td>\n",
       "      <td>0.76</td>\n",
       "      <td>0.04</td>\n",
       "      <td>2.3</td>\n",
       "      <td>0.092</td>\n",
       "      <td>15.0</td>\n",
       "      <td>54.0</td>\n",
       "      <td>0.9970</td>\n",
       "      <td>3.26</td>\n",
       "      <td>0.65</td>\n",
       "      <td>9.8</td>\n",
       "      <td>5</td>\n",
       "    </tr>\n",
       "    <tr>\n",
       "      <th>3</th>\n",
       "      <td>11.2</td>\n",
       "      <td>0.28</td>\n",
       "      <td>0.56</td>\n",
       "      <td>1.9</td>\n",
       "      <td>0.075</td>\n",
       "      <td>17.0</td>\n",
       "      <td>60.0</td>\n",
       "      <td>0.9980</td>\n",
       "      <td>3.16</td>\n",
       "      <td>0.58</td>\n",
       "      <td>9.8</td>\n",
       "      <td>6</td>\n",
       "    </tr>\n",
       "    <tr>\n",
       "      <th>4</th>\n",
       "      <td>7.4</td>\n",
       "      <td>0.70</td>\n",
       "      <td>0.00</td>\n",
       "      <td>1.9</td>\n",
       "      <td>0.076</td>\n",
       "      <td>11.0</td>\n",
       "      <td>34.0</td>\n",
       "      <td>0.9978</td>\n",
       "      <td>3.51</td>\n",
       "      <td>0.56</td>\n",
       "      <td>9.4</td>\n",
       "      <td>5</td>\n",
       "    </tr>\n",
       "  </tbody>\n",
       "</table>\n",
       "</div>"
      ],
      "text/plain": [
       "   fixed acidity  volatile acidity  citric acid  residual sugar  chlorides  \\\n",
       "0            7.4              0.70         0.00             1.9      0.076   \n",
       "1            7.8              0.88         0.00             2.6      0.098   \n",
       "2            7.8              0.76         0.04             2.3      0.092   \n",
       "3           11.2              0.28         0.56             1.9      0.075   \n",
       "4            7.4              0.70         0.00             1.9      0.076   \n",
       "\n",
       "   free sulfur dioxide  total sulfur dioxide  density    pH  sulphates  \\\n",
       "0                 11.0                  34.0   0.9978  3.51       0.56   \n",
       "1                 25.0                  67.0   0.9968  3.20       0.68   \n",
       "2                 15.0                  54.0   0.9970  3.26       0.65   \n",
       "3                 17.0                  60.0   0.9980  3.16       0.58   \n",
       "4                 11.0                  34.0   0.9978  3.51       0.56   \n",
       "\n",
       "   alcohol  quality  \n",
       "0      9.4        5  \n",
       "1      9.8        5  \n",
       "2      9.8        5  \n",
       "3      9.8        6  \n",
       "4      9.4        5  "
      ]
     },
     "execution_count": 4,
     "metadata": {},
     "output_type": "execute_result"
    }
   ],
   "source": [
    "df.head()"
   ]
  },
  {
   "cell_type": "code",
   "execution_count": 5,
   "metadata": {},
   "outputs": [
    {
     "name": "stdout",
     "output_type": "stream",
     "text": [
      "<class 'pandas.core.frame.DataFrame'>\n",
      "RangeIndex: 1599 entries, 0 to 1598\n",
      "Data columns (total 12 columns):\n",
      "fixed acidity           1599 non-null float64\n",
      "volatile acidity        1599 non-null float64\n",
      "citric acid             1599 non-null float64\n",
      "residual sugar          1599 non-null float64\n",
      "chlorides               1599 non-null float64\n",
      "free sulfur dioxide     1599 non-null float64\n",
      "total sulfur dioxide    1599 non-null float64\n",
      "density                 1599 non-null float64\n",
      "pH                      1599 non-null float64\n",
      "sulphates               1599 non-null float64\n",
      "alcohol                 1599 non-null float64\n",
      "quality                 1599 non-null int64\n",
      "dtypes: float64(11), int64(1)\n",
      "memory usage: 149.9 KB\n"
     ]
    }
   ],
   "source": [
    "df.info()"
   ]
  },
  {
   "cell_type": "code",
   "execution_count": 6,
   "metadata": {},
   "outputs": [
    {
     "data": {
      "text/html": [
       "<div>\n",
       "<style scoped>\n",
       "    .dataframe tbody tr th:only-of-type {\n",
       "        vertical-align: middle;\n",
       "    }\n",
       "\n",
       "    .dataframe tbody tr th {\n",
       "        vertical-align: top;\n",
       "    }\n",
       "\n",
       "    .dataframe thead th {\n",
       "        text-align: right;\n",
       "    }\n",
       "</style>\n",
       "<table border=\"1\" class=\"dataframe\">\n",
       "  <thead>\n",
       "    <tr style=\"text-align: right;\">\n",
       "      <th></th>\n",
       "      <th>fixed acidity</th>\n",
       "      <th>volatile acidity</th>\n",
       "      <th>citric acid</th>\n",
       "      <th>residual sugar</th>\n",
       "      <th>chlorides</th>\n",
       "      <th>free sulfur dioxide</th>\n",
       "      <th>total sulfur dioxide</th>\n",
       "      <th>density</th>\n",
       "      <th>pH</th>\n",
       "      <th>sulphates</th>\n",
       "      <th>alcohol</th>\n",
       "      <th>quality</th>\n",
       "    </tr>\n",
       "  </thead>\n",
       "  <tbody>\n",
       "    <tr>\n",
       "      <th>count</th>\n",
       "      <td>1599.000000</td>\n",
       "      <td>1599.000000</td>\n",
       "      <td>1599.000000</td>\n",
       "      <td>1599.000000</td>\n",
       "      <td>1599.000000</td>\n",
       "      <td>1599.000000</td>\n",
       "      <td>1599.000000</td>\n",
       "      <td>1599.000000</td>\n",
       "      <td>1599.000000</td>\n",
       "      <td>1599.000000</td>\n",
       "      <td>1599.000000</td>\n",
       "      <td>1599.000000</td>\n",
       "    </tr>\n",
       "    <tr>\n",
       "      <th>mean</th>\n",
       "      <td>8.319637</td>\n",
       "      <td>0.527821</td>\n",
       "      <td>0.270976</td>\n",
       "      <td>2.538806</td>\n",
       "      <td>0.087467</td>\n",
       "      <td>15.874922</td>\n",
       "      <td>46.467792</td>\n",
       "      <td>0.996747</td>\n",
       "      <td>3.311113</td>\n",
       "      <td>0.658149</td>\n",
       "      <td>10.422983</td>\n",
       "      <td>5.636023</td>\n",
       "    </tr>\n",
       "    <tr>\n",
       "      <th>std</th>\n",
       "      <td>1.741096</td>\n",
       "      <td>0.179060</td>\n",
       "      <td>0.194801</td>\n",
       "      <td>1.409928</td>\n",
       "      <td>0.047065</td>\n",
       "      <td>10.460157</td>\n",
       "      <td>32.895324</td>\n",
       "      <td>0.001887</td>\n",
       "      <td>0.154386</td>\n",
       "      <td>0.169507</td>\n",
       "      <td>1.065668</td>\n",
       "      <td>0.807569</td>\n",
       "    </tr>\n",
       "    <tr>\n",
       "      <th>min</th>\n",
       "      <td>4.600000</td>\n",
       "      <td>0.120000</td>\n",
       "      <td>0.000000</td>\n",
       "      <td>0.900000</td>\n",
       "      <td>0.012000</td>\n",
       "      <td>1.000000</td>\n",
       "      <td>6.000000</td>\n",
       "      <td>0.990070</td>\n",
       "      <td>2.740000</td>\n",
       "      <td>0.330000</td>\n",
       "      <td>8.400000</td>\n",
       "      <td>3.000000</td>\n",
       "    </tr>\n",
       "    <tr>\n",
       "      <th>25%</th>\n",
       "      <td>7.100000</td>\n",
       "      <td>0.390000</td>\n",
       "      <td>0.090000</td>\n",
       "      <td>1.900000</td>\n",
       "      <td>0.070000</td>\n",
       "      <td>7.000000</td>\n",
       "      <td>22.000000</td>\n",
       "      <td>0.995600</td>\n",
       "      <td>3.210000</td>\n",
       "      <td>0.550000</td>\n",
       "      <td>9.500000</td>\n",
       "      <td>5.000000</td>\n",
       "    </tr>\n",
       "    <tr>\n",
       "      <th>50%</th>\n",
       "      <td>7.900000</td>\n",
       "      <td>0.520000</td>\n",
       "      <td>0.260000</td>\n",
       "      <td>2.200000</td>\n",
       "      <td>0.079000</td>\n",
       "      <td>14.000000</td>\n",
       "      <td>38.000000</td>\n",
       "      <td>0.996750</td>\n",
       "      <td>3.310000</td>\n",
       "      <td>0.620000</td>\n",
       "      <td>10.200000</td>\n",
       "      <td>6.000000</td>\n",
       "    </tr>\n",
       "    <tr>\n",
       "      <th>75%</th>\n",
       "      <td>9.200000</td>\n",
       "      <td>0.640000</td>\n",
       "      <td>0.420000</td>\n",
       "      <td>2.600000</td>\n",
       "      <td>0.090000</td>\n",
       "      <td>21.000000</td>\n",
       "      <td>62.000000</td>\n",
       "      <td>0.997835</td>\n",
       "      <td>3.400000</td>\n",
       "      <td>0.730000</td>\n",
       "      <td>11.100000</td>\n",
       "      <td>6.000000</td>\n",
       "    </tr>\n",
       "    <tr>\n",
       "      <th>max</th>\n",
       "      <td>15.900000</td>\n",
       "      <td>1.580000</td>\n",
       "      <td>1.000000</td>\n",
       "      <td>15.500000</td>\n",
       "      <td>0.611000</td>\n",
       "      <td>72.000000</td>\n",
       "      <td>289.000000</td>\n",
       "      <td>1.003690</td>\n",
       "      <td>4.010000</td>\n",
       "      <td>2.000000</td>\n",
       "      <td>14.900000</td>\n",
       "      <td>8.000000</td>\n",
       "    </tr>\n",
       "  </tbody>\n",
       "</table>\n",
       "</div>"
      ],
      "text/plain": [
       "       fixed acidity  volatile acidity  citric acid  residual sugar  \\\n",
       "count    1599.000000       1599.000000  1599.000000     1599.000000   \n",
       "mean        8.319637          0.527821     0.270976        2.538806   \n",
       "std         1.741096          0.179060     0.194801        1.409928   \n",
       "min         4.600000          0.120000     0.000000        0.900000   \n",
       "25%         7.100000          0.390000     0.090000        1.900000   \n",
       "50%         7.900000          0.520000     0.260000        2.200000   \n",
       "75%         9.200000          0.640000     0.420000        2.600000   \n",
       "max        15.900000          1.580000     1.000000       15.500000   \n",
       "\n",
       "         chlorides  free sulfur dioxide  total sulfur dioxide      density  \\\n",
       "count  1599.000000          1599.000000           1599.000000  1599.000000   \n",
       "mean      0.087467            15.874922             46.467792     0.996747   \n",
       "std       0.047065            10.460157             32.895324     0.001887   \n",
       "min       0.012000             1.000000              6.000000     0.990070   \n",
       "25%       0.070000             7.000000             22.000000     0.995600   \n",
       "50%       0.079000            14.000000             38.000000     0.996750   \n",
       "75%       0.090000            21.000000             62.000000     0.997835   \n",
       "max       0.611000            72.000000            289.000000     1.003690   \n",
       "\n",
       "                pH    sulphates      alcohol      quality  \n",
       "count  1599.000000  1599.000000  1599.000000  1599.000000  \n",
       "mean      3.311113     0.658149    10.422983     5.636023  \n",
       "std       0.154386     0.169507     1.065668     0.807569  \n",
       "min       2.740000     0.330000     8.400000     3.000000  \n",
       "25%       3.210000     0.550000     9.500000     5.000000  \n",
       "50%       3.310000     0.620000    10.200000     6.000000  \n",
       "75%       3.400000     0.730000    11.100000     6.000000  \n",
       "max       4.010000     2.000000    14.900000     8.000000  "
      ]
     },
     "execution_count": 6,
     "metadata": {},
     "output_type": "execute_result"
    }
   ],
   "source": [
    "df.describe()"
   ]
  },
  {
   "cell_type": "code",
   "execution_count": 8,
   "metadata": {},
   "outputs": [
    {
     "data": {
      "text/plain": [
       "<matplotlib.axes._subplots.AxesSubplot at 0x33948d0>"
      ]
     },
     "execution_count": 8,
     "metadata": {},
     "output_type": "execute_result"
    },
    {
     "data": {
      "image/png": "[encoded data removed]",
      "text/plain": [
       "<Figure size 432x288 with 1 Axes>"
      ]
     },
     "metadata": {
      "needs_background": "light"
     },
     "output_type": "display_data"
    }
   ],
   "source": [
    "df['fixed acidity'].hist()"
   ]
  },
  {
   "cell_type": "code",
   "execution_count": 9,
   "metadata": {},
   "outputs": [
    {
     "data": {
      "text/plain": [
       "<matplotlib.axes._subplots.AxesSubplot at 0xd78d410>"
      ]
     },
     "execution_count": 9,
     "metadata": {},
     "output_type": "execute_result"
    },
    {
     "data": {
      "image/png": "[encoded data removed]",
      "text/plain": [
       "<Figure size 432x288 with 1 Axes>"
      ]
     },
     "metadata": {
      "needs_background": "light"
     },
     "output_type": "display_data"
    }
   ],
   "source": [
    "df['volatile acidity'].hist()"
   ]
  },
  {
   "cell_type": "code",
   "execution_count": 10,
   "metadata": {},
   "outputs": [
    {
     "data": {
      "text/plain": [
       "<matplotlib.axes._subplots.AxesSubplot at 0xd982cf0>"
      ]
     },
     "execution_count": 10,
     "metadata": {},
     "output_type": "execute_result"
    },
    {
     "data": {
      "image/png": "[encoded data removed]",
      "text/plain": [
       "<Figure size 432x288 with 1 Axes>"
      ]
     },
     "metadata": {
      "needs_background": "light"
     },
     "output_type": "display_data"
    }
   ],
   "source": [
    "df['citric acid'].hist()"
   ]
  },
  {
   "cell_type": "code",
   "execution_count": 11,
   "metadata": {},
   "outputs": [
    {
     "data": {
      "text/plain": [
       "<matplotlib.axes._subplots.AxesSubplot at 0xda4db90>"
      ]
     },
     "execution_count": 11,
     "metadata": {},
     "output_type": "execute_result"
    },
    {
     "data": {
      "image/png": "[encoded data removed]",
      "text/plain": [
       "<Figure size 432x288 with 1 Axes>"
      ]
     },
     "metadata": {
      "needs_background": "light"
     },
     "output_type": "display_data"
    }
   ],
   "source": [
    "df['residual sugar'].hist()"
   ]
  },
  {
   "cell_type": "code",
   "execution_count": 12,
   "metadata": {},
   "outputs": [
    {
     "data": {
      "text/plain": [
       "<matplotlib.axes._subplots.AxesSubplot at 0x1016a310>"
      ]
     },
     "execution_count": 12,
     "metadata": {},
     "output_type": "execute_result"
    },
    {
     "data": {
      "image/png": "[encoded data removed]",
      "text/plain": [
       "<Figure size 432x288 with 1 Axes>"
      ]
     },
     "metadata": {
      "needs_background": "light"
     },
     "output_type": "display_data"
    }
   ],
   "source": [
    "df['chlorides'].hist()"
   ]
  },
  {
   "cell_type": "code",
   "execution_count": 13,
   "metadata": {},
   "outputs": [
    {
     "data": {
      "text/plain": [
       "<matplotlib.axes._subplots.AxesSubplot at 0x101e6f30>"
      ]
     },
     "execution_count": 13,
     "metadata": {},
     "output_type": "execute_result"
    },
    {
     "data": {
      "image/png": "[encoded data removed]",
      "text/plain": [
       "<Figure size 432x288 with 1 Axes>"
      ]
     },
     "metadata": {
      "needs_background": "light"
     },
     "output_type": "display_data"
    }
   ],
   "source": [
    "df['free sulfur dioxide'].hist()"
   ]
  },
  {
   "cell_type": "code",
   "execution_count": 14,
   "metadata": {},
   "outputs": [
    {
     "data": {
      "text/plain": [
       "<matplotlib.axes._subplots.AxesSubplot at 0x10303f30>"
      ]
     },
     "execution_count": 14,
     "metadata": {},
     "output_type": "execute_result"
    },
    {
     "data": {
      "image/png": "[encoded data removed]",
      "text/plain": [
       "<Figure size 432x288 with 1 Axes>"
      ]
     },
     "metadata": {
      "needs_background": "light"
     },
     "output_type": "display_data"
    }
   ],
   "source": [
    "df['total sulfur dioxide'].hist()"
   ]
  },
  {
   "cell_type": "code",
   "execution_count": 15,
   "metadata": {},
   "outputs": [
    {
     "data": {
      "text/plain": [
       "<matplotlib.axes._subplots.AxesSubplot at 0x104567b0>"
      ]
     },
     "execution_count": 15,
     "metadata": {},
     "output_type": "execute_result"
    },
    {
     "data": {
      "image/png": "[encoded data removed]",
      "text/plain": [
       "<Figure size 432x288 with 1 Axes>"
      ]
     },
     "metadata": {
      "needs_background": "light"
     },
     "output_type": "display_data"
    }
   ],
   "source": [
    "df['density'].hist()"
   ]
  },
  {
   "cell_type": "code",
   "execution_count": 17,
   "metadata": {},
   "outputs": [
    {
     "data": {
      "text/plain": [
       "<matplotlib.axes._subplots.AxesSubplot at 0x10979bf0>"
      ]
     },
     "execution_count": 17,
     "metadata": {},
     "output_type": "execute_result"
    },
    {
     "data": {
      "image/png": "[encoded data removed]",
      "text/plain": [
       "<Figure size 432x288 with 1 Axes>"
      ]
     },
     "metadata": {
      "needs_background": "light"
     },
     "output_type": "display_data"
    }
   ],
   "source": [
    "df['pH'].hist()"
   ]
  },
  {
   "cell_type": "code",
   "execution_count": 19,
   "metadata": {},
   "outputs": [
    {
     "data": {
      "text/plain": [
       "<matplotlib.axes._subplots.AxesSubplot at 0x10a0f9d0>"
      ]
     },
     "execution_count": 19,
     "metadata": {},
     "output_type": "execute_result"
    },
    {
     "data": {
      "image/png": "[encoded data removed]",
      "text/plain": [
       "<Figure size 432x288 with 1 Axes>"
      ]
     },
     "metadata": {
      "needs_background": "light"
     },
     "output_type": "display_data"
    }
   ],
   "source": [
    "df['sulphates'].hist()"
   ]
  },
  {
   "cell_type": "code",
   "execution_count": 20,
   "metadata": {},
   "outputs": [
    {
     "data": {
      "text/plain": [
       "<matplotlib.axes._subplots.AxesSubplot at 0x10a399b0>"
      ]
     },
     "execution_count": 20,
     "metadata": {},
     "output_type": "execute_result"
    },
    {
     "data": {
      "image/png": "[encoded data removed]",
      "text/plain": [
       "<Figure size 432x288 with 1 Axes>"
      ]
     },
     "metadata": {
      "needs_background": "light"
     },
     "output_type": "display_data"
    }
   ],
   "source": [
    "df['alcohol'].hist()"
   ]
  },
  {
   "cell_type": "code",
   "execution_count": 21,
   "metadata": {},
   "outputs": [
    {
     "data": {
      "text/plain": [
       "<matplotlib.axes._subplots.AxesSubplot at 0x10cd7410>"
      ]
     },
     "execution_count": 21,
     "metadata": {},
     "output_type": "execute_result"
    },
    {
     "data": {
      "image/png": "[encoded data removed]",
      "text/plain": [
       "<Figure size 432x288 with 1 Axes>"
      ]
     },
     "metadata": {
      "needs_background": "light"
     },
     "output_type": "display_data"
    }
   ],
   "source": [
    "sns.countplot(x='quality',data=df)"
   ]
  },
  {
   "cell_type": "code",
   "execution_count": 22,
   "metadata": {},
   "outputs": [
    {
     "data": {
      "text/plain": [
       "<matplotlib.axes._subplots.AxesSubplot at 0x10ce62f0>"
      ]
     },
     "execution_count": 22,
     "metadata": {},
     "output_type": "execute_result"
    },
    {
     "data": {
      "image/png": "[encoded data removed]",
      "text/plain": [
       "<Figure size 432x288 with 1 Axes>"
      ]
     },
     "metadata": {
      "needs_background": "light"
     },
     "output_type": "display_data"
    }
   ],
   "source": [
    "sns.boxplot(x='fixed acidity',data=df)"
   ]
  },
  {
   "cell_type": "code",
   "execution_count": 23,
   "metadata": {},
   "outputs": [
    {
     "data": {
      "text/plain": [
       "<matplotlib.axes._subplots.AxesSubplot at 0x10cd77b0>"
      ]
     },
     "execution_count": 23,
     "metadata": {},
     "output_type": "execute_result"
    },
    {
     "data": {
      "image/png": "[encoded data removed]",
      "text/plain": [
       "<Figure size 432x288 with 1 Axes>"
      ]
     },
     "metadata": {
      "needs_background": "light"
     },
     "output_type": "display_data"
    }
   ],
   "source": [
    "sns.boxplot(x='citric acid',data=df)"
   ]
  },
  {
   "cell_type": "code",
   "execution_count": 24,
   "metadata": {},
   "outputs": [
    {
     "data": {
      "text/plain": [
       "<matplotlib.axes._subplots.AxesSubplot at 0x10fa5eb0>"
      ]
     },
     "execution_count": 24,
     "metadata": {},
     "output_type": "execute_result"
    },
    {
     "data": {
      "image/png": "[encoded data removed]",
      "text/plain": [
       "<Figure size 432x288 with 1 Axes>"
      ]
     },
     "metadata": {
      "needs_background": "light"
     },
     "output_type": "display_data"
    }
   ],
   "source": [
    "sns.boxplot(x='volatile acidity',data=df)"
   ]
  },
  {
   "cell_type": "code",
   "execution_count": 25,
   "metadata": {},
   "outputs": [
    {
     "data": {
      "text/plain": [
       "Index([u'fixed acidity', u'volatile acidity', u'citric acid',\n",
       "       u'residual sugar', u'chlorides', u'free sulfur dioxide',\n",
       "       u'total sulfur dioxide', u'density', u'pH', u'sulphates', u'alcohol',\n",
       "       u'quality'],\n",
       "      dtype='object')"
      ]
     },
     "execution_count": 25,
     "metadata": {},
     "output_type": "execute_result"
    }
   ],
   "source": [
    "df.columns"
   ]
  },
  {
   "cell_type": "code",
   "execution_count": 26,
   "metadata": {},
   "outputs": [
    {
     "data": {
      "text/plain": [
       "<matplotlib.axes._subplots.AxesSubplot at 0x11114a70>"
      ]
     },
     "execution_count": 26,
     "metadata": {},
     "output_type": "execute_result"
    },
    {
     "data": {
      "image/png": "[encoded data removed]",
      "text/plain": [
       "<Figure size 432x288 with 1 Axes>"
      ]
     },
     "metadata": {
      "needs_background": "light"
     },
     "output_type": "display_data"
    }
   ],
   "source": [
    "sns.boxplot(x='residual sugar',data=df)"
   ]
  },
  {
   "cell_type": "code",
   "execution_count": 27,
   "metadata": {},
   "outputs": [
    {
     "data": {
      "text/plain": [
       "<matplotlib.axes._subplots.AxesSubplot at 0x11121db0>"
      ]
     },
     "execution_count": 27,
     "metadata": {},
     "output_type": "execute_result"
    },
    {
     "data": {
      "image/png": "[encoded data removed]",
      "text/plain": [
       "<Figure size 432x288 with 1 Axes>"
      ]
     },
     "metadata": {
      "needs_background": "light"
     },
     "output_type": "display_data"
    }
   ],
   "source": [
    "sns.boxplot(x='chlorides',data=df)"
   ]
  },
  {
   "cell_type": "code",
   "execution_count": 28,
   "metadata": {},
   "outputs": [
    {
     "data": {
      "text/plain": [
       "Index([u'fixed acidity', u'volatile acidity', u'citric acid',\n",
       "       u'residual sugar', u'chlorides', u'free sulfur dioxide',\n",
       "       u'total sulfur dioxide', u'density', u'pH', u'sulphates', u'alcohol',\n",
       "       u'quality'],\n",
       "      dtype='object')"
      ]
     },
     "execution_count": 28,
     "metadata": {},
     "output_type": "execute_result"
    }
   ],
   "source": [
    "df.columns"
   ]
  },
  {
   "cell_type": "code",
   "execution_count": 29,
   "metadata": {},
   "outputs": [
    {
     "data": {
      "text/plain": [
       "<matplotlib.axes._subplots.AxesSubplot at 0x11114c70>"
      ]
     },
     "execution_count": 29,
     "metadata": {},
     "output_type": "execute_result"
    },
    {
     "data": {
      "image/png": "[encoded data removed]",
      "text/plain": [
       "<Figure size 432x288 with 1 Axes>"
      ]
     },
     "metadata": {
      "needs_background": "light"
     },
     "output_type": "display_data"
    }
   ],
   "source": [
    "sns.boxplot(x='free sulfur dioxide',data=df)"
   ]
  },
  {
   "cell_type": "code",
   "execution_count": 30,
   "metadata": {},
   "outputs": [
    {
     "data": {
      "text/plain": [
       "<matplotlib.axes._subplots.AxesSubplot at 0x1126c6f0>"
      ]
     },
     "execution_count": 30,
     "metadata": {},
     "output_type": "execute_result"
    },
    {
     "data": {
      "image/png": "[encoded data removed]",
      "text/plain": [
       "<Figure size 432x288 with 1 Axes>"
      ]
     },
     "metadata": {
      "needs_background": "light"
     },
     "output_type": "display_data"
    }
   ],
   "source": [
    "sns.boxplot(x='total sulfur dioxide',data=df)"
   ]
  },
  {
   "cell_type": "code",
   "execution_count": 31,
   "metadata": {},
   "outputs": [
    {
     "data": {
      "text/plain": [
       "<matplotlib.axes._subplots.AxesSubplot at 0x113445f0>"
      ]
     },
     "execution_count": 31,
     "metadata": {},
     "output_type": "execute_result"
    },
    {
     "data": {
      "image/png": "[encoded data removed]",
      "text/plain": [
       "<Figure size 432x288 with 1 Axes>"
      ]
     },
     "metadata": {
      "needs_background": "light"
     },
     "output_type": "display_data"
    }
   ],
   "source": [
    "sns.boxplot(x='density',data=df)"
   ]
  },
  {
   "cell_type": "code",
   "execution_count": 32,
   "metadata": {},
   "outputs": [
    {
     "data": {
      "text/plain": [
       "<matplotlib.axes._subplots.AxesSubplot at 0x1158dc70>"
      ]
     },
     "execution_count": 32,
     "metadata": {},
     "output_type": "execute_result"
    },
    {
     "data": {
      "image/png": "[encoded data removed]",
      "text/plain": [
       "<Figure size 432x288 with 1 Axes>"
      ]
     },
     "metadata": {
      "needs_background": "light"
     },
     "output_type": "display_data"
    }
   ],
   "source": [
    "sns.boxplot(x='pH',data=df)"
   ]
  },
  {
   "cell_type": "code",
   "execution_count": 33,
   "metadata": {},
   "outputs": [
    {
     "data": {
      "text/plain": [
       "<matplotlib.axes._subplots.AxesSubplot at 0x1131b310>"
      ]
     },
     "execution_count": 33,
     "metadata": {},
     "output_type": "execute_result"
    },
    {
     "data": {
      "image/png": "[encoded data removed]",
      "text/plain": [
       "<Figure size 432x288 with 1 Axes>"
      ]
     },
     "metadata": {
      "needs_background": "light"
     },
     "output_type": "display_data"
    }
   ],
   "source": [
    "sns.boxplot(x='sulphates',data=df)"
   ]
  },
  {
   "cell_type": "code",
   "execution_count": 34,
   "metadata": {},
   "outputs": [
    {
     "data": {
      "text/plain": [
       "Index([u'fixed acidity', u'volatile acidity', u'citric acid',\n",
       "       u'residual sugar', u'chlorides', u'free sulfur dioxide',\n",
       "       u'total sulfur dioxide', u'density', u'pH', u'sulphates', u'alcohol',\n",
       "       u'quality'],\n",
       "      dtype='object')"
      ]
     },
     "execution_count": 34,
     "metadata": {},
     "output_type": "execute_result"
    }
   ],
   "source": [
    "df.columns"
   ]
  },
  {
   "cell_type": "code",
   "execution_count": 35,
   "metadata": {},
   "outputs": [
    {
     "data": {
      "text/plain": [
       "<matplotlib.axes._subplots.AxesSubplot at 0x1174a590>"
      ]
     },
     "execution_count": 35,
     "metadata": {},
     "output_type": "execute_result"
    },
    {
     "data": {
      "image/png": "[encoded data removed]",
      "text/plain": [
       "<Figure size 432x288 with 1 Axes>"
      ]
     },
     "metadata": {
      "needs_background": "light"
     },
     "output_type": "display_data"
    }
   ],
   "source": [
    "sns.boxplot(x='alcohol',data=df)"
   ]
  },
  {
   "cell_type": "code",
   "execution_count": 36,
   "metadata": {},
   "outputs": [
    {
     "data": {
      "text/plain": [
       "<matplotlib.axes._subplots.AxesSubplot at 0x118d6b50>"
      ]
     },
     "execution_count": 36,
     "metadata": {},
     "output_type": "execute_result"
    },
    {
     "data": {
      "image/png": "[encoded data removed]",
      "text/plain": [
       "<Figure size 432x288 with 1 Axes>"
      ]
     },
     "metadata": {
      "needs_background": "light"
     },
     "output_type": "display_data"
    }
   ],
   "source": [
    "sns.boxplot(x='quality',data=df)"
   ]
  },
  {
   "cell_type": "code",
   "execution_count": 38,
   "metadata": {},
   "outputs": [
    {
     "data": {
      "text/html": [
       "<style  type=\"text/css\" >\n",
       "    #T_944a2651_c814_11ea_b5c4_c018858573aarow0_col0 {\n",
       "            background-color:  #b40426;\n",
       "            color:  #f1f1f1;\n",
       "        }    #T_944a2651_c814_11ea_b5c4_c018858573aarow0_col1 {\n",
       "            background-color:  #8db0fe;\n",
       "            color:  #000000;\n",
       "        }    #T_944a2651_c814_11ea_b5c4_c018858573aarow0_col2 {\n",
       "            background-color:  #ec8165;\n",
       "            color:  #000000;\n",
       "        }    #T_944a2651_c814_11ea_b5c4_c018858573aarow0_col3 {\n",
       "            background-color:  #d6dce4;\n",
       "            color:  #000000;\n",
       "        }    #T_944a2651_c814_11ea_b5c4_c018858573aarow0_col4 {\n",
       "            background-color:  #d3dbe7;\n",
       "            color:  #000000;\n",
       "        }    #T_944a2651_c814_11ea_b5c4_c018858573aarow0_col5 {\n",
       "            background-color:  #a3c2fe;\n",
       "            color:  #000000;\n",
       "        }    #T_944a2651_c814_11ea_b5c4_c018858573aarow0_col6 {\n",
       "            background-color:  #abc8fd;\n",
       "            color:  #000000;\n",
       "        }    #T_944a2651_c814_11ea_b5c4_c018858573aarow0_col7 {\n",
       "            background-color:  #ed8366;\n",
       "            color:  #000000;\n",
       "        }    #T_944a2651_c814_11ea_b5c4_c018858573aarow0_col8 {\n",
       "            background-color:  #3b4cc0;\n",
       "            color:  #f1f1f1;\n",
       "        }    #T_944a2651_c814_11ea_b5c4_c018858573aarow0_col9 {\n",
       "            background-color:  #e0dbd8;\n",
       "            color:  #000000;\n",
       "        }    #T_944a2651_c814_11ea_b5c4_c018858573aarow0_col10 {\n",
       "            background-color:  #b6cefa;\n",
       "            color:  #000000;\n",
       "        }    #T_944a2651_c814_11ea_b5c4_c018858573aarow0_col11 {\n",
       "            background-color:  #d7dce3;\n",
       "            color:  #000000;\n",
       "        }    #T_944a2651_c814_11ea_b5c4_c018858573aarow1_col0 {\n",
       "            background-color:  #779af7;\n",
       "            color:  #000000;\n",
       "        }    #T_944a2651_c814_11ea_b5c4_c018858573aarow1_col1 {\n",
       "            background-color:  #b40426;\n",
       "            color:  #f1f1f1;\n",
       "        }    #T_944a2651_c814_11ea_b5c4_c018858573aarow1_col2 {\n",
       "            background-color:  #3b4cc0;\n",
       "            color:  #f1f1f1;\n",
       "        }    #T_944a2651_c814_11ea_b5c4_c018858573aarow1_col3 {\n",
       "            background-color:  #b2ccfb;\n",
       "            color:  #000000;\n",
       "        }    #T_944a2651_c814_11ea_b5c4_c018858573aarow1_col4 {\n",
       "            background-color:  #bfd3f6;\n",
       "            color:  #000000;\n",
       "        }    #T_944a2651_c814_11ea_b5c4_c018858573aarow1_col5 {\n",
       "            background-color:  #afcafc;\n",
       "            color:  #000000;\n",
       "        }    #T_944a2651_c814_11ea_b5c4_c018858573aarow1_col6 {\n",
       "            background-color:  #c1d4f4;\n",
       "            color:  #000000;\n",
       "        }    #T_944a2651_c814_11ea_b5c4_c018858573aarow1_col7 {\n",
       "            background-color:  #b6cefa;\n",
       "            color:  #000000;\n",
       "        }    #T_944a2651_c814_11ea_b5c4_c018858573aarow1_col8 {\n",
       "            background-color:  #dedcdb;\n",
       "            color:  #000000;\n",
       "        }    #T_944a2651_c814_11ea_b5c4_c018858573aarow1_col9 {\n",
       "            background-color:  #779af7;\n",
       "            color:  #000000;\n",
       "        }    #T_944a2651_c814_11ea_b5c4_c018858573aarow1_col10 {\n",
       "            background-color:  #84a7fc;\n",
       "            color:  #000000;\n",
       "        }    #T_944a2651_c814_11ea_b5c4_c018858573aarow1_col11 {\n",
       "            background-color:  #5a78e4;\n",
       "            color:  #000000;\n",
       "        }    #T_944a2651_c814_11ea_b5c4_c018858573aarow2_col0 {\n",
       "            background-color:  #f08a6c;\n",
       "            color:  #000000;\n",
       "        }    #T_944a2651_c814_11ea_b5c4_c018858573aarow2_col1 {\n",
       "            background-color:  #3b4cc0;\n",
       "            color:  #f1f1f1;\n",
       "        }    #T_944a2651_c814_11ea_b5c4_c018858573aarow2_col2 {\n",
       "            background-color:  #b40426;\n",
       "            color:  #f1f1f1;\n",
       "        }    #T_944a2651_c814_11ea_b5c4_c018858573aarow2_col3 {\n",
       "            background-color:  #cedaeb;\n",
       "            color:  #000000;\n",
       "        }    #T_944a2651_c814_11ea_b5c4_c018858573aarow2_col4 {\n",
       "            background-color:  #d9dce1;\n",
       "            color:  #000000;\n",
       "        }    #T_944a2651_c814_11ea_b5c4_c018858573aarow2_col5 {\n",
       "            background-color:  #a5c3fe;\n",
       "            color:  #000000;\n",
       "        }    #T_944a2651_c814_11ea_b5c4_c018858573aarow2_col6 {\n",
       "            background-color:  #b9d0f9;\n",
       "            color:  #000000;\n",
       "        }    #T_944a2651_c814_11ea_b5c4_c018858573aarow2_col7 {\n",
       "            background-color:  #f1cdba;\n",
       "            color:  #000000;\n",
       "        }    #T_944a2651_c814_11ea_b5c4_c018858573aarow2_col8 {\n",
       "            background-color:  #3c4ec2;\n",
       "            color:  #f1f1f1;\n",
       "        }    #T_944a2651_c814_11ea_b5c4_c018858573aarow2_col9 {\n",
       "            background-color:  #ead4c8;\n",
       "            color:  #000000;\n",
       "        }    #T_944a2651_c814_11ea_b5c4_c018858573aarow2_col10 {\n",
       "            background-color:  #c9d7f0;\n",
       "            color:  #000000;\n",
       "        }    #T_944a2651_c814_11ea_b5c4_c018858573aarow2_col11 {\n",
       "            background-color:  #dddcdc;\n",
       "            color:  #000000;\n",
       "        }    #T_944a2651_c814_11ea_b5c4_c018858573aarow3_col0 {\n",
       "            background-color:  #7699f6;\n",
       "            color:  #000000;\n",
       "        }    #T_944a2651_c814_11ea_b5c4_c018858573aarow3_col1 {\n",
       "            background-color:  #536edd;\n",
       "            color:  #000000;\n",
       "        }    #T_944a2651_c814_11ea_b5c4_c018858573aarow3_col2 {\n",
       "            background-color:  #80a3fa;\n",
       "            color:  #000000;\n",
       "        }    #T_944a2651_c814_11ea_b5c4_c018858573aarow3_col3 {\n",
       "            background-color:  #b40426;\n",
       "            color:  #f1f1f1;\n",
       "        }    #T_944a2651_c814_11ea_b5c4_c018858573aarow3_col4 {\n",
       "            background-color:  #6384eb;\n",
       "            color:  #000000;\n",
       "        }    #T_944a2651_c814_11ea_b5c4_c018858573aarow3_col5 {\n",
       "            background-color:  #8db0fe;\n",
       "            color:  #000000;\n",
       "        }    #T_944a2651_c814_11ea_b5c4_c018858573aarow3_col6 {\n",
       "            background-color:  #93b5fe;\n",
       "            color:  #000000;\n",
       "        }    #T_944a2651_c814_11ea_b5c4_c018858573aarow3_col7 {\n",
       "            background-color:  #c1d4f4;\n",
       "            color:  #000000;\n",
       "        }    #T_944a2651_c814_11ea_b5c4_c018858573aarow3_col8 {\n",
       "            background-color:  #3b4cc0;\n",
       "            color:  #f1f1f1;\n",
       "        }    #T_944a2651_c814_11ea_b5c4_c018858573aarow3_col9 {\n",
       "            background-color:  #5470de;\n",
       "            color:  #000000;\n",
       "        }    #T_944a2651_c814_11ea_b5c4_c018858573aarow3_col10 {\n",
       "            background-color:  #5f7fe8;\n",
       "            color:  #000000;\n",
       "        }    #T_944a2651_c814_11ea_b5c4_c018858573aarow3_col11 {\n",
       "            background-color:  #5673e0;\n",
       "            color:  #000000;\n",
       "        }    #T_944a2651_c814_11ea_b5c4_c018858573aarow4_col0 {\n",
       "            background-color:  #98b9ff;\n",
       "            color:  #000000;\n",
       "        }    #T_944a2651_c814_11ea_b5c4_c018858573aarow4_col1 {\n",
       "            background-color:  #90b2fe;\n",
       "            color:  #000000;\n",
       "        }    #T_944a2651_c814_11ea_b5c4_c018858573aarow4_col2 {\n",
       "            background-color:  #b6cefa;\n",
       "            color:  #000000;\n",
       "        }    #T_944a2651_c814_11ea_b5c4_c018858573aarow4_col3 {\n",
       "            background-color:  #8db0fe;\n",
       "            color:  #000000;\n",
       "        }    #T_944a2651_c814_11ea_b5c4_c018858573aarow4_col4 {\n",
       "            background-color:  #b40426;\n",
       "            color:  #f1f1f1;\n",
       "        }    #T_944a2651_c814_11ea_b5c4_c018858573aarow4_col5 {\n",
       "            background-color:  #80a3fa;\n",
       "            color:  #000000;\n",
       "        }    #T_944a2651_c814_11ea_b5c4_c018858573aarow4_col6 {\n",
       "            background-color:  #8caffe;\n",
       "            color:  #000000;\n",
       "        }    #T_944a2651_c814_11ea_b5c4_c018858573aarow4_col7 {\n",
       "            background-color:  #b6cefa;\n",
       "            color:  #000000;\n",
       "        }    #T_944a2651_c814_11ea_b5c4_c018858573aarow4_col8 {\n",
       "            background-color:  #3b4cc0;\n",
       "            color:  #f1f1f1;\n",
       "        }    #T_944a2651_c814_11ea_b5c4_c018858573aarow4_col9 {\n",
       "            background-color:  #dddcdc;\n",
       "            color:  #000000;\n",
       "        }    #T_944a2651_c814_11ea_b5c4_c018858573aarow4_col10 {\n",
       "            background-color:  #445acc;\n",
       "            color:  #f1f1f1;\n",
       "        }    #T_944a2651_c814_11ea_b5c4_c018858573aarow4_col11 {\n",
       "            background-color:  #5b7ae5;\n",
       "            color:  #000000;\n",
       "        }    #T_944a2651_c814_11ea_b5c4_c018858573aarow5_col0 {\n",
       "            background-color:  #3b4cc0;\n",
       "            color:  #f1f1f1;\n",
       "        }    #T_944a2651_c814_11ea_b5c4_c018858573aarow5_col1 {\n",
       "            background-color:  #6180e9;\n",
       "            color:  #000000;\n",
       "        }    #T_944a2651_c814_11ea_b5c4_c018858573aarow5_col2 {\n",
       "            background-color:  #536edd;\n",
       "            color:  #000000;\n",
       "        }    #T_944a2651_c814_11ea_b5c4_c018858573aarow5_col3 {\n",
       "            background-color:  #9dbdff;\n",
       "            color:  #000000;\n",
       "        }    #T_944a2651_c814_11ea_b5c4_c018858573aarow5_col4 {\n",
       "            background-color:  #6687ed;\n",
       "            color:  #000000;\n",
       "        }    #T_944a2651_c814_11ea_b5c4_c018858573aarow5_col5 {\n",
       "            background-color:  #b40426;\n",
       "            color:  #f1f1f1;\n",
       "        }    #T_944a2651_c814_11ea_b5c4_c018858573aarow5_col6 {\n",
       "            background-color:  #f7a889;\n",
       "            color:  #000000;\n",
       "        }    #T_944a2651_c814_11ea_b5c4_c018858573aarow5_col7 {\n",
       "            background-color:  #5e7de7;\n",
       "            color:  #000000;\n",
       "        }    #T_944a2651_c814_11ea_b5c4_c018858573aarow5_col8 {\n",
       "            background-color:  #799cf8;\n",
       "            color:  #000000;\n",
       "        }    #T_944a2651_c814_11ea_b5c4_c018858573aarow5_col9 {\n",
       "            background-color:  #7396f5;\n",
       "            color:  #000000;\n",
       "        }    #T_944a2651_c814_11ea_b5c4_c018858573aarow5_col10 {\n",
       "            background-color:  #506bda;\n",
       "            color:  #000000;\n",
       "        }    #T_944a2651_c814_11ea_b5c4_c018858573aarow5_col11 {\n",
       "            background-color:  #5572df;\n",
       "            color:  #000000;\n",
       "        }    #T_944a2651_c814_11ea_b5c4_c018858573aarow6_col0 {\n",
       "            background-color:  #516ddb;\n",
       "            color:  #000000;\n",
       "        }    #T_944a2651_c814_11ea_b5c4_c018858573aarow6_col1 {\n",
       "            background-color:  #86a9fc;\n",
       "            color:  #000000;\n",
       "        }    #T_944a2651_c814_11ea_b5c4_c018858573aarow6_col2 {\n",
       "            background-color:  #7b9ff9;\n",
       "            color:  #000000;\n",
       "        }    #T_944a2651_c814_11ea_b5c4_c018858573aarow6_col3 {\n",
       "            background-color:  #abc8fd;\n",
       "            color:  #000000;\n",
       "        }    #T_944a2651_c814_11ea_b5c4_c018858573aarow6_col4 {\n",
       "            background-color:  #7ea1fa;\n",
       "            color:  #000000;\n",
       "        }    #T_944a2651_c814_11ea_b5c4_c018858573aarow6_col5 {\n",
       "            background-color:  #f6a385;\n",
       "            color:  #000000;\n",
       "        }    #T_944a2651_c814_11ea_b5c4_c018858573aarow6_col6 {\n",
       "            background-color:  #b40426;\n",
       "            color:  #f1f1f1;\n",
       "        }    #T_944a2651_c814_11ea_b5c4_c018858573aarow6_col7 {\n",
       "            background-color:  #85a8fc;\n",
       "            color:  #000000;\n",
       "        }    #T_944a2651_c814_11ea_b5c4_c018858573aarow6_col8 {\n",
       "            background-color:  #5e7de7;\n",
       "            color:  #000000;\n",
       "        }    #T_944a2651_c814_11ea_b5c4_c018858573aarow6_col9 {\n",
       "            background-color:  #7da0f9;\n",
       "            color:  #000000;\n",
       "        }    #T_944a2651_c814_11ea_b5c4_c018858573aarow6_col10 {\n",
       "            background-color:  #3b4cc0;\n",
       "            color:  #f1f1f1;\n",
       "        }    #T_944a2651_c814_11ea_b5c4_c018858573aarow6_col11 {\n",
       "            background-color:  #3f53c6;\n",
       "            color:  #f1f1f1;\n",
       "        }    #T_944a2651_c814_11ea_b5c4_c018858573aarow7_col0 {\n",
       "            background-color:  #f18d6f;\n",
       "            color:  #000000;\n",
       "        }    #T_944a2651_c814_11ea_b5c4_c018858573aarow7_col1 {\n",
       "            background-color:  #aec9fc;\n",
       "            color:  #000000;\n",
       "        }    #T_944a2651_c814_11ea_b5c4_c018858573aarow7_col2 {\n",
       "            background-color:  #eed0c0;\n",
       "            color:  #000000;\n",
       "        }    #T_944a2651_c814_11ea_b5c4_c018858573aarow7_col3 {\n",
       "            background-color:  #edd2c3;\n",
       "            color:  #000000;\n",
       "        }    #T_944a2651_c814_11ea_b5c4_c018858573aarow7_col4 {\n",
       "            background-color:  #d4dbe6;\n",
       "            color:  #000000;\n",
       "        }    #T_944a2651_c814_11ea_b5c4_c018858573aarow7_col5 {\n",
       "            background-color:  #a5c3fe;\n",
       "            color:  #000000;\n",
       "        }    #T_944a2651_c814_11ea_b5c4_c018858573aarow7_col6 {\n",
       "            background-color:  #bad0f8;\n",
       "            color:  #000000;\n",
       "        }    #T_944a2651_c814_11ea_b5c4_c018858573aarow7_col7 {\n",
       "            background-color:  #b40426;\n",
       "            color:  #f1f1f1;\n",
       "        }    #T_944a2651_c814_11ea_b5c4_c018858573aarow7_col8 {\n",
       "            background-color:  #5a78e4;\n",
       "            color:  #000000;\n",
       "        }    #T_944a2651_c814_11ea_b5c4_c018858573aarow7_col9 {\n",
       "            background-color:  #cad8ef;\n",
       "            color:  #000000;\n",
       "        }    #T_944a2651_c814_11ea_b5c4_c018858573aarow7_col10 {\n",
       "            background-color:  #3b4cc0;\n",
       "            color:  #f1f1f1;\n",
       "        }    #T_944a2651_c814_11ea_b5c4_c018858573aarow7_col11 {\n",
       "            background-color:  #80a3fa;\n",
       "            color:  #000000;\n",
       "        }    #T_944a2651_c814_11ea_b5c4_c018858573aarow8_col0 {\n",
       "            background-color:  #3b4cc0;\n",
       "            color:  #f1f1f1;\n",
       "        }    #T_944a2651_c814_11ea_b5c4_c018858573aarow8_col1 {\n",
       "            background-color:  #e8d6cc;\n",
       "            color:  #000000;\n",
       "        }    #T_944a2651_c814_11ea_b5c4_c018858573aarow8_col2 {\n",
       "            background-color:  #5470de;\n",
       "            color:  #000000;\n",
       "        }    #T_944a2651_c814_11ea_b5c4_c018858573aarow8_col3 {\n",
       "            background-color:  #b1cbfc;\n",
       "            color:  #000000;\n",
       "        }    #T_944a2651_c814_11ea_b5c4_c018858573aarow8_col4 {\n",
       "            background-color:  #8caffe;\n",
       "            color:  #000000;\n",
       "        }    #T_944a2651_c814_11ea_b5c4_c018858573aarow8_col5 {\n",
       "            background-color:  #cedaeb;\n",
       "            color:  #000000;\n",
       "        }    #T_944a2651_c814_11ea_b5c4_c018858573aarow8_col6 {\n",
       "            background-color:  #b5cdfa;\n",
       "            color:  #000000;\n",
       "        }    #T_944a2651_c814_11ea_b5c4_c018858573aarow8_col7 {\n",
       "            background-color:  #7b9ff9;\n",
       "            color:  #000000;\n",
       "        }    #T_944a2651_c814_11ea_b5c4_c018858573aarow8_col8 {\n",
       "            background-color:  #b40426;\n",
       "            color:  #f1f1f1;\n",
       "        }    #T_944a2651_c814_11ea_b5c4_c018858573aarow8_col9 {\n",
       "            background-color:  #9abbff;\n",
       "            color:  #000000;\n",
       "        }    #T_944a2651_c814_11ea_b5c4_c018858573aarow8_col10 {\n",
       "            background-color:  #e4d9d2;\n",
       "            color:  #000000;\n",
       "        }    #T_944a2651_c814_11ea_b5c4_c018858573aarow8_col11 {\n",
       "            background-color:  #b7cff9;\n",
       "            color:  #000000;\n",
       "        }    #T_944a2651_c814_11ea_b5c4_c018858573aarow9_col0 {\n",
       "            background-color:  #b1cbfc;\n",
       "            color:  #000000;\n",
       "        }    #T_944a2651_c814_11ea_b5c4_c018858573aarow9_col1 {\n",
       "            background-color:  #3b4cc0;\n",
       "            color:  #f1f1f1;\n",
       "        }    #T_944a2651_c814_11ea_b5c4_c018858573aarow9_col2 {\n",
       "            background-color:  #d1dae9;\n",
       "            color:  #000000;\n",
       "        }    #T_944a2651_c814_11ea_b5c4_c018858573aarow9_col3 {\n",
       "            background-color:  #80a3fa;\n",
       "            color:  #000000;\n",
       "        }    #T_944a2651_c814_11ea_b5c4_c018858573aarow9_col4 {\n",
       "            background-color:  #dddcdc;\n",
       "            color:  #000000;\n",
       "        }    #T_944a2651_c814_11ea_b5c4_c018858573aarow9_col5 {\n",
       "            background-color:  #8caffe;\n",
       "            color:  #000000;\n",
       "        }    #T_944a2651_c814_11ea_b5c4_c018858573aarow9_col6 {\n",
       "            background-color:  #89acfd;\n",
       "            color:  #000000;\n",
       "        }    #T_944a2651_c814_11ea_b5c4_c018858573aarow9_col7 {\n",
       "            background-color:  #a7c5fe;\n",
       "            color:  #000000;\n",
       "        }    #T_944a2651_c814_11ea_b5c4_c018858573aarow9_col8 {\n",
       "            background-color:  #4a63d3;\n",
       "            color:  #f1f1f1;\n",
       "        }    #T_944a2651_c814_11ea_b5c4_c018858573aarow9_col9 {\n",
       "            background-color:  #b40426;\n",
       "            color:  #f1f1f1;\n",
       "        }    #T_944a2651_c814_11ea_b5c4_c018858573aarow9_col10 {\n",
       "            background-color:  #97b8ff;\n",
       "            color:  #000000;\n",
       "        }    #T_944a2651_c814_11ea_b5c4_c018858573aarow9_col11 {\n",
       "            background-color:  #c3d5f4;\n",
       "            color:  #000000;\n",
       "        }    #T_944a2651_c814_11ea_b5c4_c018858573aarow10_col0 {\n",
       "            background-color:  #9bbcff;\n",
       "            color:  #000000;\n",
       "        }    #T_944a2651_c814_11ea_b5c4_c018858573aarow10_col1 {\n",
       "            background-color:  #7a9df8;\n",
       "            color:  #000000;\n",
       "        }    #T_944a2651_c814_11ea_b5c4_c018858573aarow10_col2 {\n",
       "            background-color:  #c1d4f4;\n",
       "            color:  #000000;\n",
       "        }    #T_944a2651_c814_11ea_b5c4_c018858573aarow10_col3 {\n",
       "            background-color:  #b3cdfb;\n",
       "            color:  #000000;\n",
       "        }    #T_944a2651_c814_11ea_b5c4_c018858573aarow10_col4 {\n",
       "            background-color:  #7699f6;\n",
       "            color:  #000000;\n",
       "        }    #T_944a2651_c814_11ea_b5c4_c018858573aarow10_col5 {\n",
       "            background-color:  #9abbff;\n",
       "            color:  #000000;\n",
       "        }    #T_944a2651_c814_11ea_b5c4_c018858573aarow10_col6 {\n",
       "            background-color:  #799cf8;\n",
       "            color:  #000000;\n",
       "        }    #T_944a2651_c814_11ea_b5c4_c018858573aarow10_col7 {\n",
       "            background-color:  #3b4cc0;\n",
       "            color:  #f1f1f1;\n",
       "        }    #T_944a2651_c814_11ea_b5c4_c018858573aarow10_col8 {\n",
       "            background-color:  #d5dbe5;\n",
       "            color:  #000000;\n",
       "        }    #T_944a2651_c814_11ea_b5c4_c018858573aarow10_col9 {\n",
       "            background-color:  #bed2f6;\n",
       "            color:  #000000;\n",
       "        }    #T_944a2651_c814_11ea_b5c4_c018858573aarow10_col10 {\n",
       "            background-color:  #b40426;\n",
       "            color:  #f1f1f1;\n",
       "        }    #T_944a2651_c814_11ea_b5c4_c018858573aarow10_col11 {\n",
       "            background-color:  #f6bda2;\n",
       "            color:  #000000;\n",
       "        }    #T_944a2651_c814_11ea_b5c4_c018858573aarow11_col0 {\n",
       "            background-color:  #b6cefa;\n",
       "            color:  #000000;\n",
       "        }    #T_944a2651_c814_11ea_b5c4_c018858573aarow11_col1 {\n",
       "            background-color:  #3b4cc0;\n",
       "            color:  #f1f1f1;\n",
       "        }    #T_944a2651_c814_11ea_b5c4_c018858573aarow11_col2 {\n",
       "            background-color:  #cdd9ec;\n",
       "            color:  #000000;\n",
       "        }    #T_944a2651_c814_11ea_b5c4_c018858573aarow11_col3 {\n",
       "            background-color:  #9bbcff;\n",
       "            color:  #000000;\n",
       "        }    #T_944a2651_c814_11ea_b5c4_c018858573aarow11_col4 {\n",
       "            background-color:  #779af7;\n",
       "            color:  #000000;\n",
       "        }    #T_944a2651_c814_11ea_b5c4_c018858573aarow11_col5 {\n",
       "            background-color:  #8badfd;\n",
       "            color:  #000000;\n",
       "        }    #T_944a2651_c814_11ea_b5c4_c018858573aarow11_col6 {\n",
       "            background-color:  #688aef;\n",
       "            color:  #000000;\n",
       "        }    #T_944a2651_c814_11ea_b5c4_c018858573aarow11_col7 {\n",
       "            background-color:  #6b8df0;\n",
       "            color:  #000000;\n",
       "        }    #T_944a2651_c814_11ea_b5c4_c018858573aarow11_col8 {\n",
       "            background-color:  #89acfd;\n",
       "            color:  #000000;\n",
       "        }    #T_944a2651_c814_11ea_b5c4_c018858573aarow11_col9 {\n",
       "            background-color:  #d3dbe7;\n",
       "            color:  #000000;\n",
       "        }    #T_944a2651_c814_11ea_b5c4_c018858573aarow11_col10 {\n",
       "            background-color:  #f4c5ad;\n",
       "            color:  #000000;\n",
       "        }    #T_944a2651_c814_11ea_b5c4_c018858573aarow11_col11 {\n",
       "            background-color:  #b40426;\n",
       "            color:  #f1f1f1;\n",
       "        }</style><table id=\"T_944a2651_c814_11ea_b5c4_c018858573aa\" ><thead>    <tr>        <th class=\"blank level0\" ></th>        <th class=\"col_heading level0 col0\" >fixed acidity</th>        <th class=\"col_heading level0 col1\" >volatile acidity</th>        <th class=\"col_heading level0 col2\" >citric acid</th>        <th class=\"col_heading level0 col3\" >residual sugar</th>        <th class=\"col_heading level0 col4\" >chlorides</th>        <th class=\"col_heading level0 col5\" >free sulfur dioxide</th>        <th class=\"col_heading level0 col6\" >total sulfur dioxide</th>        <th class=\"col_heading level0 col7\" >density</th>        <th class=\"col_heading level0 col8\" >pH</th>        <th class=\"col_heading level0 col9\" >sulphates</th>        <th class=\"col_heading level0 col10\" >alcohol</th>        <th class=\"col_heading level0 col11\" >quality</th>    </tr></thead><tbody>\n",
       "                <tr>\n",
       "                        <th id=\"T_944a2651_c814_11ea_b5c4_c018858573aalevel0_row0\" class=\"row_heading level0 row0\" >fixed acidity</th>\n",
       "                        <td id=\"T_944a2651_c814_11ea_b5c4_c018858573aarow0_col0\" class=\"data row0 col0\" >1.0</td>\n",
       "                        <td id=\"T_944a2651_c814_11ea_b5c4_c018858573aarow0_col1\" class=\"data row0 col1\" >-0.26</td>\n",
       "                        <td id=\"T_944a2651_c814_11ea_b5c4_c018858573aarow0_col2\" class=\"data row0 col2\" >0.67</td>\n",
       "                        <td id=\"T_944a2651_c814_11ea_b5c4_c018858573aarow0_col3\" class=\"data row0 col3\" >0.11</td>\n",
       "                        <td id=\"T_944a2651_c814_11ea_b5c4_c018858573aarow0_col4\" class=\"data row0 col4\" >0.094</td>\n",
       "                        <td id=\"T_944a2651_c814_11ea_b5c4_c018858573aarow0_col5\" class=\"data row0 col5\" >-0.15</td>\n",
       "                        <td id=\"T_944a2651_c814_11ea_b5c4_c018858573aarow0_col6\" class=\"data row0 col6\" >-0.11</td>\n",
       "                        <td id=\"T_944a2651_c814_11ea_b5c4_c018858573aarow0_col7\" class=\"data row0 col7\" >0.67</td>\n",
       "                        <td id=\"T_944a2651_c814_11ea_b5c4_c018858573aarow0_col8\" class=\"data row0 col8\" >-0.68</td>\n",
       "                        <td id=\"T_944a2651_c814_11ea_b5c4_c018858573aarow0_col9\" class=\"data row0 col9\" >0.18</td>\n",
       "                        <td id=\"T_944a2651_c814_11ea_b5c4_c018858573aarow0_col10\" class=\"data row0 col10\" >-0.062</td>\n",
       "                        <td id=\"T_944a2651_c814_11ea_b5c4_c018858573aarow0_col11\" class=\"data row0 col11\" >0.12</td>\n",
       "            </tr>\n",
       "            <tr>\n",
       "                        <th id=\"T_944a2651_c814_11ea_b5c4_c018858573aalevel0_row1\" class=\"row_heading level0 row1\" >volatile acidity</th>\n",
       "                        <td id=\"T_944a2651_c814_11ea_b5c4_c018858573aarow1_col0\" class=\"data row1 col0\" >-0.26</td>\n",
       "                        <td id=\"T_944a2651_c814_11ea_b5c4_c018858573aarow1_col1\" class=\"data row1 col1\" >1.0</td>\n",
       "                        <td id=\"T_944a2651_c814_11ea_b5c4_c018858573aarow1_col2\" class=\"data row1 col2\" >-0.55</td>\n",
       "                        <td id=\"T_944a2651_c814_11ea_b5c4_c018858573aarow1_col3\" class=\"data row1 col3\" >0.0019</td>\n",
       "                        <td id=\"T_944a2651_c814_11ea_b5c4_c018858573aarow1_col4\" class=\"data row1 col4\" >0.061</td>\n",
       "                        <td id=\"T_944a2651_c814_11ea_b5c4_c018858573aarow1_col5\" class=\"data row1 col5\" >-0.011</td>\n",
       "                        <td id=\"T_944a2651_c814_11ea_b5c4_c018858573aarow1_col6\" class=\"data row1 col6\" >0.076</td>\n",
       "                        <td id=\"T_944a2651_c814_11ea_b5c4_c018858573aarow1_col7\" class=\"data row1 col7\" >0.022</td>\n",
       "                        <td id=\"T_944a2651_c814_11ea_b5c4_c018858573aarow1_col8\" class=\"data row1 col8\" >0.23</td>\n",
       "                        <td id=\"T_944a2651_c814_11ea_b5c4_c018858573aarow1_col9\" class=\"data row1 col9\" >-0.26</td>\n",
       "                        <td id=\"T_944a2651_c814_11ea_b5c4_c018858573aarow1_col10\" class=\"data row1 col10\" >-0.2</td>\n",
       "                        <td id=\"T_944a2651_c814_11ea_b5c4_c018858573aarow1_col11\" class=\"data row1 col11\" >-0.39</td>\n",
       "            </tr>\n",
       "            <tr>\n",
       "                        <th id=\"T_944a2651_c814_11ea_b5c4_c018858573aalevel0_row2\" class=\"row_heading level0 row2\" >citric acid</th>\n",
       "                        <td id=\"T_944a2651_c814_11ea_b5c4_c018858573aarow2_col0\" class=\"data row2 col0\" >0.67</td>\n",
       "                        <td id=\"T_944a2651_c814_11ea_b5c4_c018858573aarow2_col1\" class=\"data row2 col1\" >-0.55</td>\n",
       "                        <td id=\"T_944a2651_c814_11ea_b5c4_c018858573aarow2_col2\" class=\"data row2 col2\" >1.0</td>\n",
       "                        <td id=\"T_944a2651_c814_11ea_b5c4_c018858573aarow2_col3\" class=\"data row2 col3\" >0.14</td>\n",
       "                        <td id=\"T_944a2651_c814_11ea_b5c4_c018858573aarow2_col4\" class=\"data row2 col4\" >0.2</td>\n",
       "                        <td id=\"T_944a2651_c814_11ea_b5c4_c018858573aarow2_col5\" class=\"data row2 col5\" >-0.061</td>\n",
       "                        <td id=\"T_944a2651_c814_11ea_b5c4_c018858573aarow2_col6\" class=\"data row2 col6\" >0.036</td>\n",
       "                        <td id=\"T_944a2651_c814_11ea_b5c4_c018858573aarow2_col7\" class=\"data row2 col7\" >0.36</td>\n",
       "                        <td id=\"T_944a2651_c814_11ea_b5c4_c018858573aarow2_col8\" class=\"data row2 col8\" >-0.54</td>\n",
       "                        <td id=\"T_944a2651_c814_11ea_b5c4_c018858573aarow2_col9\" class=\"data row2 col9\" >0.31</td>\n",
       "                        <td id=\"T_944a2651_c814_11ea_b5c4_c018858573aarow2_col10\" class=\"data row2 col10\" >0.11</td>\n",
       "                        <td id=\"T_944a2651_c814_11ea_b5c4_c018858573aarow2_col11\" class=\"data row2 col11\" >0.23</td>\n",
       "            </tr>\n",
       "            <tr>\n",
       "                        <th id=\"T_944a2651_c814_11ea_b5c4_c018858573aalevel0_row3\" class=\"row_heading level0 row3\" >residual sugar</th>\n",
       "                        <td id=\"T_944a2651_c814_11ea_b5c4_c018858573aarow3_col0\" class=\"data row3 col0\" >0.11</td>\n",
       "                        <td id=\"T_944a2651_c814_11ea_b5c4_c018858573aarow3_col1\" class=\"data row3 col1\" >0.0019</td>\n",
       "                        <td id=\"T_944a2651_c814_11ea_b5c4_c018858573aarow3_col2\" class=\"data row3 col2\" >0.14</td>\n",
       "                        <td id=\"T_944a2651_c814_11ea_b5c4_c018858573aarow3_col3\" class=\"data row3 col3\" >1.0</td>\n",
       "                        <td id=\"T_944a2651_c814_11ea_b5c4_c018858573aarow3_col4\" class=\"data row3 col4\" >0.056</td>\n",
       "                        <td id=\"T_944a2651_c814_11ea_b5c4_c018858573aarow3_col5\" class=\"data row3 col5\" >0.19</td>\n",
       "                        <td id=\"T_944a2651_c814_11ea_b5c4_c018858573aarow3_col6\" class=\"data row3 col6\" >0.2</td>\n",
       "                        <td id=\"T_944a2651_c814_11ea_b5c4_c018858573aarow3_col7\" class=\"data row3 col7\" >0.36</td>\n",
       "                        <td id=\"T_944a2651_c814_11ea_b5c4_c018858573aarow3_col8\" class=\"data row3 col8\" >-0.086</td>\n",
       "                        <td id=\"T_944a2651_c814_11ea_b5c4_c018858573aarow3_col9\" class=\"data row3 col9\" >0.0055</td>\n",
       "                        <td id=\"T_944a2651_c814_11ea_b5c4_c018858573aarow3_col10\" class=\"data row3 col10\" >0.042</td>\n",
       "                        <td id=\"T_944a2651_c814_11ea_b5c4_c018858573aarow3_col11\" class=\"data row3 col11\" >0.014</td>\n",
       "            </tr>\n",
       "            <tr>\n",
       "                        <th id=\"T_944a2651_c814_11ea_b5c4_c018858573aalevel0_row4\" class=\"row_heading level0 row4\" >chlorides</th>\n",
       "                        <td id=\"T_944a2651_c814_11ea_b5c4_c018858573aarow4_col0\" class=\"data row4 col0\" >0.094</td>\n",
       "                        <td id=\"T_944a2651_c814_11ea_b5c4_c018858573aarow4_col1\" class=\"data row4 col1\" >0.061</td>\n",
       "                        <td id=\"T_944a2651_c814_11ea_b5c4_c018858573aarow4_col2\" class=\"data row4 col2\" >0.2</td>\n",
       "                        <td id=\"T_944a2651_c814_11ea_b5c4_c018858573aarow4_col3\" class=\"data row4 col3\" >0.056</td>\n",
       "                        <td id=\"T_944a2651_c814_11ea_b5c4_c018858573aarow4_col4\" class=\"data row4 col4\" >1.0</td>\n",
       "                        <td id=\"T_944a2651_c814_11ea_b5c4_c018858573aarow4_col5\" class=\"data row4 col5\" >0.0056</td>\n",
       "                        <td id=\"T_944a2651_c814_11ea_b5c4_c018858573aarow4_col6\" class=\"data row4 col6\" >0.047</td>\n",
       "                        <td id=\"T_944a2651_c814_11ea_b5c4_c018858573aarow4_col7\" class=\"data row4 col7\" >0.2</td>\n",
       "                        <td id=\"T_944a2651_c814_11ea_b5c4_c018858573aarow4_col8\" class=\"data row4 col8\" >-0.27</td>\n",
       "                        <td id=\"T_944a2651_c814_11ea_b5c4_c018858573aarow4_col9\" class=\"data row4 col9\" >0.37</td>\n",
       "                        <td id=\"T_944a2651_c814_11ea_b5c4_c018858573aarow4_col10\" class=\"data row4 col10\" >-0.22</td>\n",
       "                        <td id=\"T_944a2651_c814_11ea_b5c4_c018858573aarow4_col11\" class=\"data row4 col11\" >-0.13</td>\n",
       "            </tr>\n",
       "            <tr>\n",
       "                        <th id=\"T_944a2651_c814_11ea_b5c4_c018858573aalevel0_row5\" class=\"row_heading level0 row5\" >free sulfur dioxide</th>\n",
       "                        <td id=\"T_944a2651_c814_11ea_b5c4_c018858573aarow5_col0\" class=\"data row5 col0\" >-0.15</td>\n",
       "                        <td id=\"T_944a2651_c814_11ea_b5c4_c018858573aarow5_col1\" class=\"data row5 col1\" >-0.011</td>\n",
       "                        <td id=\"T_944a2651_c814_11ea_b5c4_c018858573aarow5_col2\" class=\"data row5 col2\" >-0.061</td>\n",
       "                        <td id=\"T_944a2651_c814_11ea_b5c4_c018858573aarow5_col3\" class=\"data row5 col3\" >0.19</td>\n",
       "                        <td id=\"T_944a2651_c814_11ea_b5c4_c018858573aarow5_col4\" class=\"data row5 col4\" >0.0056</td>\n",
       "                        <td id=\"T_944a2651_c814_11ea_b5c4_c018858573aarow5_col5\" class=\"data row5 col5\" >1.0</td>\n",
       "                        <td id=\"T_944a2651_c814_11ea_b5c4_c018858573aarow5_col6\" class=\"data row5 col6\" >0.67</td>\n",
       "                        <td id=\"T_944a2651_c814_11ea_b5c4_c018858573aarow5_col7\" class=\"data row5 col7\" >-0.022</td>\n",
       "                        <td id=\"T_944a2651_c814_11ea_b5c4_c018858573aarow5_col8\" class=\"data row5 col8\" >0.07</td>\n",
       "                        <td id=\"T_944a2651_c814_11ea_b5c4_c018858573aarow5_col9\" class=\"data row5 col9\" >0.052</td>\n",
       "                        <td id=\"T_944a2651_c814_11ea_b5c4_c018858573aarow5_col10\" class=\"data row5 col10\" >-0.069</td>\n",
       "                        <td id=\"T_944a2651_c814_11ea_b5c4_c018858573aarow5_col11\" class=\"data row5 col11\" >-0.051</td>\n",
       "            </tr>\n",
       "            <tr>\n",
       "                        <th id=\"T_944a2651_c814_11ea_b5c4_c018858573aalevel0_row6\" class=\"row_heading level0 row6\" >total sulfur dioxide</th>\n",
       "                        <td id=\"T_944a2651_c814_11ea_b5c4_c018858573aarow6_col0\" class=\"data row6 col0\" >-0.11</td>\n",
       "                        <td id=\"T_944a2651_c814_11ea_b5c4_c018858573aarow6_col1\" class=\"data row6 col1\" >0.076</td>\n",
       "                        <td id=\"T_944a2651_c814_11ea_b5c4_c018858573aarow6_col2\" class=\"data row6 col2\" >0.036</td>\n",
       "                        <td id=\"T_944a2651_c814_11ea_b5c4_c018858573aarow6_col3\" class=\"data row6 col3\" >0.2</td>\n",
       "                        <td id=\"T_944a2651_c814_11ea_b5c4_c018858573aarow6_col4\" class=\"data row6 col4\" >0.047</td>\n",
       "                        <td id=\"T_944a2651_c814_11ea_b5c4_c018858573aarow6_col5\" class=\"data row6 col5\" >0.67</td>\n",
       "                        <td id=\"T_944a2651_c814_11ea_b5c4_c018858573aarow6_col6\" class=\"data row6 col6\" >1.0</td>\n",
       "                        <td id=\"T_944a2651_c814_11ea_b5c4_c018858573aarow6_col7\" class=\"data row6 col7\" >0.071</td>\n",
       "                        <td id=\"T_944a2651_c814_11ea_b5c4_c018858573aarow6_col8\" class=\"data row6 col8\" >-0.066</td>\n",
       "                        <td id=\"T_944a2651_c814_11ea_b5c4_c018858573aarow6_col9\" class=\"data row6 col9\" >0.043</td>\n",
       "                        <td id=\"T_944a2651_c814_11ea_b5c4_c018858573aarow6_col10\" class=\"data row6 col10\" >-0.21</td>\n",
       "                        <td id=\"T_944a2651_c814_11ea_b5c4_c018858573aarow6_col11\" class=\"data row6 col11\" >-0.19</td>\n",
       "            </tr>\n",
       "            <tr>\n",
       "                        <th id=\"T_944a2651_c814_11ea_b5c4_c018858573aalevel0_row7\" class=\"row_heading level0 row7\" >density</th>\n",
       "                        <td id=\"T_944a2651_c814_11ea_b5c4_c018858573aarow7_col0\" class=\"data row7 col0\" >0.67</td>\n",
       "                        <td id=\"T_944a2651_c814_11ea_b5c4_c018858573aarow7_col1\" class=\"data row7 col1\" >0.022</td>\n",
       "                        <td id=\"T_944a2651_c814_11ea_b5c4_c018858573aarow7_col2\" class=\"data row7 col2\" >0.36</td>\n",
       "                        <td id=\"T_944a2651_c814_11ea_b5c4_c018858573aarow7_col3\" class=\"data row7 col3\" >0.36</td>\n",
       "                        <td id=\"T_944a2651_c814_11ea_b5c4_c018858573aarow7_col4\" class=\"data row7 col4\" >0.2</td>\n",
       "                        <td id=\"T_944a2651_c814_11ea_b5c4_c018858573aarow7_col5\" class=\"data row7 col5\" >-0.022</td>\n",
       "                        <td id=\"T_944a2651_c814_11ea_b5c4_c018858573aarow7_col6\" class=\"data row7 col6\" >0.071</td>\n",
       "                        <td id=\"T_944a2651_c814_11ea_b5c4_c018858573aarow7_col7\" class=\"data row7 col7\" >1.0</td>\n",
       "                        <td id=\"T_944a2651_c814_11ea_b5c4_c018858573aarow7_col8\" class=\"data row7 col8\" >-0.34</td>\n",
       "                        <td id=\"T_944a2651_c814_11ea_b5c4_c018858573aarow7_col9\" class=\"data row7 col9\" >0.15</td>\n",
       "                        <td id=\"T_944a2651_c814_11ea_b5c4_c018858573aarow7_col10\" class=\"data row7 col10\" >-0.5</td>\n",
       "                        <td id=\"T_944a2651_c814_11ea_b5c4_c018858573aarow7_col11\" class=\"data row7 col11\" >-0.17</td>\n",
       "            </tr>\n",
       "            <tr>\n",
       "                        <th id=\"T_944a2651_c814_11ea_b5c4_c018858573aalevel0_row8\" class=\"row_heading level0 row8\" >pH</th>\n",
       "                        <td id=\"T_944a2651_c814_11ea_b5c4_c018858573aarow8_col0\" class=\"data row8 col0\" >-0.68</td>\n",
       "                        <td id=\"T_944a2651_c814_11ea_b5c4_c018858573aarow8_col1\" class=\"data row8 col1\" >0.23</td>\n",
       "                        <td id=\"T_944a2651_c814_11ea_b5c4_c018858573aarow8_col2\" class=\"data row8 col2\" >-0.54</td>\n",
       "                        <td id=\"T_944a2651_c814_11ea_b5c4_c018858573aarow8_col3\" class=\"data row8 col3\" >-0.086</td>\n",
       "                        <td id=\"T_944a2651_c814_11ea_b5c4_c018858573aarow8_col4\" class=\"data row8 col4\" >-0.27</td>\n",
       "                        <td id=\"T_944a2651_c814_11ea_b5c4_c018858573aarow8_col5\" class=\"data row8 col5\" >0.07</td>\n",
       "                        <td id=\"T_944a2651_c814_11ea_b5c4_c018858573aarow8_col6\" class=\"data row8 col6\" >-0.066</td>\n",
       "                        <td id=\"T_944a2651_c814_11ea_b5c4_c018858573aarow8_col7\" class=\"data row8 col7\" >-0.34</td>\n",
       "                        <td id=\"T_944a2651_c814_11ea_b5c4_c018858573aarow8_col8\" class=\"data row8 col8\" >1.0</td>\n",
       "                        <td id=\"T_944a2651_c814_11ea_b5c4_c018858573aarow8_col9\" class=\"data row8 col9\" >-0.2</td>\n",
       "                        <td id=\"T_944a2651_c814_11ea_b5c4_c018858573aarow8_col10\" class=\"data row8 col10\" >0.21</td>\n",
       "                        <td id=\"T_944a2651_c814_11ea_b5c4_c018858573aarow8_col11\" class=\"data row8 col11\" >-0.058</td>\n",
       "            </tr>\n",
       "            <tr>\n",
       "                        <th id=\"T_944a2651_c814_11ea_b5c4_c018858573aalevel0_row9\" class=\"row_heading level0 row9\" >sulphates</th>\n",
       "                        <td id=\"T_944a2651_c814_11ea_b5c4_c018858573aarow9_col0\" class=\"data row9 col0\" >0.18</td>\n",
       "                        <td id=\"T_944a2651_c814_11ea_b5c4_c018858573aarow9_col1\" class=\"data row9 col1\" >-0.26</td>\n",
       "                        <td id=\"T_944a2651_c814_11ea_b5c4_c018858573aarow9_col2\" class=\"data row9 col2\" >0.31</td>\n",
       "                        <td id=\"T_944a2651_c814_11ea_b5c4_c018858573aarow9_col3\" class=\"data row9 col3\" >0.0055</td>\n",
       "                        <td id=\"T_944a2651_c814_11ea_b5c4_c018858573aarow9_col4\" class=\"data row9 col4\" >0.37</td>\n",
       "                        <td id=\"T_944a2651_c814_11ea_b5c4_c018858573aarow9_col5\" class=\"data row9 col5\" >0.052</td>\n",
       "                        <td id=\"T_944a2651_c814_11ea_b5c4_c018858573aarow9_col6\" class=\"data row9 col6\" >0.043</td>\n",
       "                        <td id=\"T_944a2651_c814_11ea_b5c4_c018858573aarow9_col7\" class=\"data row9 col7\" >0.15</td>\n",
       "                        <td id=\"T_944a2651_c814_11ea_b5c4_c018858573aarow9_col8\" class=\"data row9 col8\" >-0.2</td>\n",
       "                        <td id=\"T_944a2651_c814_11ea_b5c4_c018858573aarow9_col9\" class=\"data row9 col9\" >1.0</td>\n",
       "                        <td id=\"T_944a2651_c814_11ea_b5c4_c018858573aarow9_col10\" class=\"data row9 col10\" >0.094</td>\n",
       "                        <td id=\"T_944a2651_c814_11ea_b5c4_c018858573aarow9_col11\" class=\"data row9 col11\" >0.25</td>\n",
       "            </tr>\n",
       "            <tr>\n",
       "                        <th id=\"T_944a2651_c814_11ea_b5c4_c018858573aalevel0_row10\" class=\"row_heading level0 row10\" >alcohol</th>\n",
       "                        <td id=\"T_944a2651_c814_11ea_b5c4_c018858573aarow10_col0\" class=\"data row10 col0\" >-0.062</td>\n",
       "                        <td id=\"T_944a2651_c814_11ea_b5c4_c018858573aarow10_col1\" class=\"data row10 col1\" >-0.2</td>\n",
       "                        <td id=\"T_944a2651_c814_11ea_b5c4_c018858573aarow10_col2\" class=\"data row10 col2\" >0.11</td>\n",
       "                        <td id=\"T_944a2651_c814_11ea_b5c4_c018858573aarow10_col3\" class=\"data row10 col3\" >0.042</td>\n",
       "                        <td id=\"T_944a2651_c814_11ea_b5c4_c018858573aarow10_col4\" class=\"data row10 col4\" >-0.22</td>\n",
       "                        <td id=\"T_944a2651_c814_11ea_b5c4_c018858573aarow10_col5\" class=\"data row10 col5\" >-0.069</td>\n",
       "                        <td id=\"T_944a2651_c814_11ea_b5c4_c018858573aarow10_col6\" class=\"data row10 col6\" >-0.21</td>\n",
       "                        <td id=\"T_944a2651_c814_11ea_b5c4_c018858573aarow10_col7\" class=\"data row10 col7\" >-0.5</td>\n",
       "                        <td id=\"T_944a2651_c814_11ea_b5c4_c018858573aarow10_col8\" class=\"data row10 col8\" >0.21</td>\n",
       "                        <td id=\"T_944a2651_c814_11ea_b5c4_c018858573aarow10_col9\" class=\"data row10 col9\" >0.094</td>\n",
       "                        <td id=\"T_944a2651_c814_11ea_b5c4_c018858573aarow10_col10\" class=\"data row10 col10\" >1.0</td>\n",
       "                        <td id=\"T_944a2651_c814_11ea_b5c4_c018858573aarow10_col11\" class=\"data row10 col11\" >0.48</td>\n",
       "            </tr>\n",
       "            <tr>\n",
       "                        <th id=\"T_944a2651_c814_11ea_b5c4_c018858573aalevel0_row11\" class=\"row_heading level0 row11\" >quality</th>\n",
       "                        <td id=\"T_944a2651_c814_11ea_b5c4_c018858573aarow11_col0\" class=\"data row11 col0\" >0.12</td>\n",
       "                        <td id=\"T_944a2651_c814_11ea_b5c4_c018858573aarow11_col1\" class=\"data row11 col1\" >-0.39</td>\n",
       "                        <td id=\"T_944a2651_c814_11ea_b5c4_c018858573aarow11_col2\" class=\"data row11 col2\" >0.23</td>\n",
       "                        <td id=\"T_944a2651_c814_11ea_b5c4_c018858573aarow11_col3\" class=\"data row11 col3\" >0.014</td>\n",
       "                        <td id=\"T_944a2651_c814_11ea_b5c4_c018858573aarow11_col4\" class=\"data row11 col4\" >-0.13</td>\n",
       "                        <td id=\"T_944a2651_c814_11ea_b5c4_c018858573aarow11_col5\" class=\"data row11 col5\" >-0.051</td>\n",
       "                        <td id=\"T_944a2651_c814_11ea_b5c4_c018858573aarow11_col6\" class=\"data row11 col6\" >-0.19</td>\n",
       "                        <td id=\"T_944a2651_c814_11ea_b5c4_c018858573aarow11_col7\" class=\"data row11 col7\" >-0.17</td>\n",
       "                        <td id=\"T_944a2651_c814_11ea_b5c4_c018858573aarow11_col8\" class=\"data row11 col8\" >-0.058</td>\n",
       "                        <td id=\"T_944a2651_c814_11ea_b5c4_c018858573aarow11_col9\" class=\"data row11 col9\" >0.25</td>\n",
       "                        <td id=\"T_944a2651_c814_11ea_b5c4_c018858573aarow11_col10\" class=\"data row11 col10\" >0.48</td>\n",
       "                        <td id=\"T_944a2651_c814_11ea_b5c4_c018858573aarow11_col11\" class=\"data row11 col11\" >1.0</td>\n",
       "            </tr>\n",
       "    </tbody></table>"
      ],
      "text/plain": [
       "<pandas.io.formats.style.Styler at 0x11b963f0>"
      ]
     },
     "execution_count": 38,
     "metadata": {},
     "output_type": "execute_result"
    }
   ],
   "source": [
    "df.corr(method='pearson').style.format(\"{:.2}\").background_gradient(cmap=plt.get_cmap('coolwarm'),axis=1)"
   ]
  },
  {
   "cell_type": "code",
   "execution_count": 39,
   "metadata": {},
   "outputs": [],
   "source": [
    "train=df"
   ]
  },
  {
   "cell_type": "code",
   "execution_count": 40,
   "metadata": {},
   "outputs": [],
   "source": [
    "def outlier_treatment(col):\n",
    "    ''' calculating outlier indices and replacing them with NA  '''\n",
    "    #Extract quartiles\n",
    "    q75, q25 = np.percentile(train[col], [75 ,25])\n",
    "    print(q75,q25)\n",
    "    #Calculate IQR\n",
    "    iqr = q75 - q25\n",
    "    #Calculate inner and outer fence\n",
    "    minimum = q25 - (iqr*1.5)\n",
    "    maximum = q75 + (iqr*1.5)\n",
    "    print(minimum,maximum)\n",
    "    #Replace with NA\n",
    "    train.loc[train[col] < minimum,col] = np.nan\n",
    "    train.loc[train[col] > maximum,col] = np.nan"
   ]
  },
  {
   "cell_type": "code",
   "execution_count": 41,
   "metadata": {},
   "outputs": [
    {
     "name": "stdout",
     "output_type": "stream",
     "text": [
      "(9.2, 7.1)\n",
      "(3.95, 12.349999999999998)\n"
     ]
    }
   ],
   "source": [
    "outlier_treatment('fixed acidity')"
   ]
  },
  {
   "cell_type": "code",
   "execution_count": 44,
   "metadata": {},
   "outputs": [
    {
     "data": {
      "text/plain": [
       "fixed acidity           49\n",
       "volatile acidity         0\n",
       "citric acid              0\n",
       "residual sugar           0\n",
       "chlorides                0\n",
       "free sulfur dioxide      0\n",
       "total sulfur dioxide     0\n",
       "density                  0\n",
       "pH                       0\n",
       "sulphates                0\n",
       "alcohol                  0\n",
       "quality                  0\n",
       "dtype: int64"
      ]
     },
     "execution_count": 44,
     "metadata": {},
     "output_type": "execute_result"
    }
   ],
   "source": [
    "df.isnull().sum()"
   ]
  },
  {
   "cell_type": "code",
   "execution_count": 45,
   "metadata": {},
   "outputs": [],
   "source": [
    "df['fixed acidity']= df['fixed acidity'].fillna(df['fixed acidity'].mean())"
   ]
  },
  {
   "cell_type": "code",
   "execution_count": 46,
   "metadata": {},
   "outputs": [
    {
     "data": {
      "text/plain": [
       "Index([u'fixed acidity', u'volatile acidity', u'citric acid',\n",
       "       u'residual sugar', u'chlorides', u'free sulfur dioxide',\n",
       "       u'total sulfur dioxide', u'density', u'pH', u'sulphates', u'alcohol',\n",
       "       u'quality'],\n",
       "      dtype='object')"
      ]
     },
     "execution_count": 46,
     "metadata": {},
     "output_type": "execute_result"
    }
   ],
   "source": [
    "df.columns"
   ]
  },
  {
   "cell_type": "code",
   "execution_count": 48,
   "metadata": {},
   "outputs": [
    {
     "name": "stdout",
     "output_type": "stream",
     "text": [
      "(0.64, 0.39)\n",
      "(0.015000000000000013, 1.0150000000000001)\n"
     ]
    }
   ],
   "source": [
    "outlier_treatment('volatile acidity')"
   ]
  },
  {
   "cell_type": "code",
   "execution_count": 49,
   "metadata": {},
   "outputs": [],
   "source": [
    "df['volatile acidity']= df['volatile acidity'].fillna(df['volatile acidity'].mean())"
   ]
  },
  {
   "cell_type": "code",
   "execution_count": 50,
   "metadata": {},
   "outputs": [
    {
     "name": "stdout",
     "output_type": "stream",
     "text": [
      "(0.42, 0.09)\n",
      "(-0.4049999999999999, 0.9149999999999999)\n"
     ]
    }
   ],
   "source": [
    "outlier_treatment('citric acid')"
   ]
  },
  {
   "cell_type": "code",
   "execution_count": 51,
   "metadata": {},
   "outputs": [],
   "source": [
    "df['citric acid']=df['citric acid'].fillna(df['citric acid'].mean())"
   ]
  },
  {
   "cell_type": "code",
   "execution_count": 52,
   "metadata": {},
   "outputs": [
    {
     "name": "stdout",
     "output_type": "stream",
     "text": [
      "(2.6, 1.9)\n",
      "(0.8499999999999996, 3.6500000000000004)\n"
     ]
    }
   ],
   "source": [
    "outlier_treatment('residual sugar')"
   ]
  },
  {
   "cell_type": "code",
   "execution_count": 53,
   "metadata": {},
   "outputs": [],
   "source": [
    "df['residual sugar']= df['residual sugar'].fillna(df['residual sugar'].mean())"
   ]
  },
  {
   "cell_type": "code",
   "execution_count": 54,
   "metadata": {},
   "outputs": [
    {
     "name": "stdout",
     "output_type": "stream",
     "text": [
      "(0.09, 0.07)\n",
      "(0.04000000000000002, 0.11999999999999998)\n"
     ]
    }
   ],
   "source": [
    "outlier_treatment('chlorides')"
   ]
  },
  {
   "cell_type": "code",
   "execution_count": 55,
   "metadata": {},
   "outputs": [],
   "source": [
    "df['chlorides']= df['chlorides'].fillna(df['chlorides'].mean())"
   ]
  },
  {
   "cell_type": "code",
   "execution_count": 56,
   "metadata": {},
   "outputs": [
    {
     "data": {
      "text/plain": [
       "Index([u'fixed acidity', u'volatile acidity', u'citric acid',\n",
       "       u'residual sugar', u'chlorides', u'free sulfur dioxide',\n",
       "       u'total sulfur dioxide', u'density', u'pH', u'sulphates', u'alcohol',\n",
       "       u'quality'],\n",
       "      dtype='object')"
      ]
     },
     "execution_count": 56,
     "metadata": {},
     "output_type": "execute_result"
    }
   ],
   "source": [
    "df.columns"
   ]
  },
  {
   "cell_type": "code",
   "execution_count": 57,
   "metadata": {},
   "outputs": [
    {
     "name": "stdout",
     "output_type": "stream",
     "text": [
      "(21.0, 7.0)\n",
      "(-14.0, 42.0)\n"
     ]
    }
   ],
   "source": [
    "outlier_treatment('free sulfur dioxide')"
   ]
  },
  {
   "cell_type": "code",
   "execution_count": 58,
   "metadata": {},
   "outputs": [],
   "source": [
    "df['free sulfur dioxide']= df['free sulfur dioxide'].fillna(df['free sulfur dioxide'].mean())"
   ]
  },
  {
   "cell_type": "code",
   "execution_count": 59,
   "metadata": {},
   "outputs": [
    {
     "name": "stdout",
     "output_type": "stream",
     "text": [
      "(62.0, 22.0)\n",
      "(-38.0, 122.0)\n"
     ]
    }
   ],
   "source": [
    "outlier_treatment('total sulfur dioxide')"
   ]
  },
  {
   "cell_type": "code",
   "execution_count": 60,
   "metadata": {},
   "outputs": [],
   "source": [
    "df['total sulfur dioxide']= df['total sulfur dioxide'].fillna(df['total sulfur dioxide'].mean())"
   ]
  },
  {
   "cell_type": "code",
   "execution_count": 61,
   "metadata": {},
   "outputs": [
    {
     "name": "stdout",
     "output_type": "stream",
     "text": [
      "(0.997835, 0.9956)\n",
      "(0.9922475000000001, 1.0011875)\n"
     ]
    }
   ],
   "source": [
    "outlier_treatment('density')"
   ]
  },
  {
   "cell_type": "code",
   "execution_count": 62,
   "metadata": {},
   "outputs": [],
   "source": [
    "df['density']= df['density'].fillna(df['density'].mean())"
   ]
  },
  {
   "cell_type": "code",
   "execution_count": 63,
   "metadata": {},
   "outputs": [
    {
     "name": "stdout",
     "output_type": "stream",
     "text": [
      "(3.4, 3.21)\n",
      "(2.925, 3.6849999999999996)\n"
     ]
    }
   ],
   "source": [
    "outlier_treatment('pH')"
   ]
  },
  {
   "cell_type": "code",
   "execution_count": 64,
   "metadata": {},
   "outputs": [],
   "source": [
    "df['pH']= df['pH'].fillna(df['pH'].mean())"
   ]
  },
  {
   "cell_type": "code",
   "execution_count": 65,
   "metadata": {},
   "outputs": [
    {
     "data": {
      "text/plain": [
       "Index([u'fixed acidity', u'volatile acidity', u'citric acid',\n",
       "       u'residual sugar', u'chlorides', u'free sulfur dioxide',\n",
       "       u'total sulfur dioxide', u'density', u'pH', u'sulphates', u'alcohol',\n",
       "       u'quality'],\n",
       "      dtype='object')"
      ]
     },
     "execution_count": 65,
     "metadata": {},
     "output_type": "execute_result"
    }
   ],
   "source": [
    "df.columns"
   ]
  },
  {
   "cell_type": "code",
   "execution_count": 66,
   "metadata": {},
   "outputs": [
    {
     "name": "stdout",
     "output_type": "stream",
     "text": [
      "(0.73, 0.55)\n",
      "(0.28000000000000014, 0.9999999999999999)\n"
     ]
    }
   ],
   "source": [
    "outlier_treatment('sulphates')"
   ]
  },
  {
   "cell_type": "code",
   "execution_count": 67,
   "metadata": {},
   "outputs": [],
   "source": [
    "df['sulphates']= df['sulphates'].fillna(df['sulphates'].mean())"
   ]
  },
  {
   "cell_type": "code",
   "execution_count": 69,
   "metadata": {},
   "outputs": [
    {
     "name": "stdout",
     "output_type": "stream",
     "text": [
      "(11.1, 9.5)\n",
      "(7.1000000000000005, 13.5)\n"
     ]
    }
   ],
   "source": [
    "outlier_treatment('alcohol')"
   ]
  },
  {
   "cell_type": "code",
   "execution_count": 70,
   "metadata": {},
   "outputs": [],
   "source": [
    "df['alcohol']= df['alcohol'].fillna(df['alcohol'].mean())"
   ]
  },
  {
   "cell_type": "code",
   "execution_count": 71,
   "metadata": {},
   "outputs": [
    {
     "data": {
      "text/plain": [
       "fixed acidity           0\n",
       "volatile acidity        0\n",
       "citric acid             0\n",
       "residual sugar          0\n",
       "chlorides               0\n",
       "free sulfur dioxide     0\n",
       "total sulfur dioxide    0\n",
       "density                 0\n",
       "pH                      0\n",
       "sulphates               0\n",
       "alcohol                 0\n",
       "quality                 0\n",
       "dtype: int64"
      ]
     },
     "execution_count": 71,
     "metadata": {},
     "output_type": "execute_result"
    }
   ],
   "source": [
    "df.isnull().sum()"
   ]
  },
  {
   "cell_type": "code",
   "execution_count": 74,
   "metadata": {},
   "outputs": [],
   "source": [
    "from sklearn.model_selection import train_test_split\n",
    "X=df.drop(['quality'],axis=1)\n",
    "Y=df['quality']\n",
    "X_train,X_test,Y_train,Y_test=train_test_split(X,Y,test_size=0.50,random_state=101)"
   ]
  },
  {
   "cell_type": "code",
   "execution_count": 75,
   "metadata": {},
   "outputs": [
    {
     "data": {
      "text/plain": [
       "DecisionTreeClassifier(class_weight=None, criterion='gini', max_depth=None,\n",
       "            max_features=None, max_leaf_nodes=None,\n",
       "            min_impurity_decrease=0.0, min_impurity_split=None,\n",
       "            min_samples_leaf=1, min_samples_split=2,\n",
       "            min_weight_fraction_leaf=0.0, presort=False, random_state=None,\n",
       "            splitter='best')"
      ]
     },
     "execution_count": 75,
     "metadata": {},
     "output_type": "execute_result"
    }
   ],
   "source": [
    "from sklearn.tree import DecisionTreeClassifier\n",
    "dtree=DecisionTreeClassifier()\n",
    "dtree.fit(X_train,Y_train)"
   ]
  },
  {
   "cell_type": "code",
   "execution_count": 76,
   "metadata": {},
   "outputs": [],
   "source": [
    "pred_DT=dtree.predict(X_test)"
   ]
  },
  {
   "cell_type": "code",
   "execution_count": 77,
   "metadata": {},
   "outputs": [],
   "source": [
    "from sklearn.metrics import accuracy_score"
   ]
  },
  {
   "cell_type": "code",
   "execution_count": 78,
   "metadata": {},
   "outputs": [
    {
     "data": {
      "text/plain": [
       "0.54875"
      ]
     },
     "execution_count": 78,
     "metadata": {},
     "output_type": "execute_result"
    }
   ],
   "source": [
    "accuracy_score(Y_test,pred_DT)"
   ]
  },
  {
   "cell_type": "code",
   "execution_count": 79,
   "metadata": {},
   "outputs": [
    {
     "name": "stderr",
     "output_type": "stream",
     "text": [
      "C:\\Users\\dear\\Anaconda2\\lib\\site-packages\\sklearn\\ensemble\\forest.py:246: FutureWarning: The default value of n_estimators will change from 10 in version 0.20 to 100 in 0.22.\n",
      "  \"10 in version 0.20 to 100 in 0.22.\", FutureWarning)\n"
     ]
    },
    {
     "data": {
      "text/plain": [
       "RandomForestClassifier(bootstrap=True, class_weight=None, criterion='gini',\n",
       "            max_depth=None, max_features='auto', max_leaf_nodes=None,\n",
       "            min_impurity_decrease=0.0, min_impurity_split=None,\n",
       "            min_samples_leaf=1, min_samples_split=2,\n",
       "            min_weight_fraction_leaf=0.0, n_estimators=10, n_jobs=None,\n",
       "            oob_score=False, random_state=None, verbose=0,\n",
       "            warm_start=False)"
      ]
     },
     "execution_count": 79,
     "metadata": {},
     "output_type": "execute_result"
    }
   ],
   "source": [
    "from sklearn.ensemble import RandomForestClassifier\n",
    "rfr=RandomForestClassifier()\n",
    "rfr.fit(X_train,Y_train)"
   ]
  },
  {
   "cell_type": "code",
   "execution_count": 80,
   "metadata": {},
   "outputs": [],
   "source": [
    "pred_rfr=rfr.predict(X_test)"
   ]
  },
  {
   "cell_type": "code",
   "execution_count": 81,
   "metadata": {},
   "outputs": [
    {
     "data": {
      "text/plain": [
       "0.61125"
      ]
     },
     "execution_count": 81,
     "metadata": {},
     "output_type": "execute_result"
    }
   ],
   "source": [
    "accuracy_score(Y_test,pred_rfr)"
   ]
  },
  {
   "cell_type": "code",
   "execution_count": 82,
   "metadata": {},
   "outputs": [],
   "source": [
    "from sklearn.metrics import confusion_matrix"
   ]
  },
  {
   "cell_type": "code",
   "execution_count": 83,
   "metadata": {},
   "outputs": [
    {
     "data": {
      "text/plain": [
       "array([[  0,   0,   4,   1,   0,   0],\n",
       "       [  0,   0,  21,   7,   0,   0],\n",
       "       [  0,   5, 255,  69,   4,   0],\n",
       "       [  0,   4,  87, 196,  28,   1],\n",
       "       [  0,   0,  10,  59,  37,   2],\n",
       "       [  0,   0,   1,   5,   3,   1]], dtype=int64)"
      ]
     },
     "execution_count": 83,
     "metadata": {},
     "output_type": "execute_result"
    }
   ],
   "source": [
    "confusion_matrix(Y_test,pred_rfr)"
   ]
  },
  {
   "cell_type": "code",
   "execution_count": 86,
   "metadata": {},
   "outputs": [
    {
     "data": {
      "text/plain": [
       "array([[  0,   1,   4,   0,   0,   0],\n",
       "       [  0,   2,  13,  12,   1,   0],\n",
       "       [  0,  13, 210, 104,   5,   1],\n",
       "       [  2,   9,  91, 172,  36,   6],\n",
       "       [  1,   1,  16,  34,  54,   2],\n",
       "       [  0,   0,   0,   3,   6,   1]], dtype=int64)"
      ]
     },
     "execution_count": 86,
     "metadata": {},
     "output_type": "execute_result"
    }
   ],
   "source": [
    "confusion_matrix(Y_test,pred_DT)"
   ]
  },
  {
   "cell_type": "code",
   "execution_count": 87,
   "metadata": {},
   "outputs": [
    {
     "data": {
      "text/plain": [
       "array([5, 5, 5, 6, 6, 5, 7, 7, 6, 5, 6, 7, 6, 6, 6, 5, 6, 5, 5, 6, 6, 5,\n",
       "       5, 5, 6, 5, 5, 5, 7, 5, 6, 5, 6, 5, 6, 6, 6, 6, 5, 5, 7, 6, 6, 6,\n",
       "       6, 6, 5, 6, 5, 6, 5, 5, 6, 6, 5, 6, 6, 7, 7, 7, 5, 5, 5, 5, 5, 5,\n",
       "       5, 5, 5, 5, 5, 5, 6, 6, 5, 6, 6, 6, 5, 7, 6, 6, 5, 6, 6, 5, 5, 5,\n",
       "       5, 5, 6, 6, 5, 5, 7, 6, 5, 6, 5, 6, 5, 6, 5, 7, 5, 5, 5, 6, 5, 6,\n",
       "       6, 5, 5, 7, 5, 6, 5, 5, 6, 5, 6, 5, 6, 6, 6, 5, 6, 5, 6, 5, 5, 5,\n",
       "       6, 7, 5, 7, 5, 6, 6, 7, 5, 5, 5, 5, 5, 6, 5, 6, 6, 5, 5, 6, 5, 6,\n",
       "       5, 5, 5, 5, 4, 5, 5, 6, 5, 5, 7, 6, 6, 6, 6, 5, 5, 6, 6, 5, 6, 6,\n",
       "       6, 5, 6, 5, 7, 5, 5, 5, 7, 6, 6, 6, 6, 5, 5, 6, 6, 6, 5, 7, 5, 4,\n",
       "       6, 6, 5, 6, 5, 7, 6, 5, 6, 6, 5, 6, 6, 5, 7, 5, 6, 7, 5, 6, 6, 5,\n",
       "       5, 7, 5, 6, 7, 6, 6, 5, 6, 6, 5, 5, 6, 5, 4, 5, 6, 6, 6, 5, 5, 6,\n",
       "       6, 4, 6, 5, 6, 6, 5, 5, 6, 6, 5, 5, 5, 5, 6, 5, 5, 6, 5, 7, 5, 6,\n",
       "       5, 6, 5, 5, 7, 6, 5, 6, 6, 5, 6, 5, 5, 7, 6, 5, 6, 7, 6, 6, 5, 7,\n",
       "       4, 5, 5, 5, 5, 5, 5, 5, 6, 8, 5, 6, 6, 5, 7, 5, 5, 5, 6, 5, 6, 6,\n",
       "       5, 5, 6, 7, 5, 6, 5, 6, 5, 6, 6, 5, 5, 5, 5, 6, 5, 7, 6, 5, 5, 5,\n",
       "       7, 5, 5, 6, 7, 5, 6, 5, 6, 5, 6, 6, 6, 6, 6, 5, 6, 5, 6, 5, 5, 6,\n",
       "       6, 7, 6, 7, 6, 6, 5, 6, 5, 5, 5, 8, 5, 5, 6, 6, 7, 5, 6, 5, 5, 5,\n",
       "       5, 6, 7, 7, 5, 6, 5, 7, 5, 5, 5, 7, 5, 5, 6, 5, 6, 6, 5, 5, 6, 6,\n",
       "       5, 5, 5, 6, 5, 5, 6, 6, 6, 5, 6, 6, 5, 6, 5, 6, 6, 6, 5, 6, 5, 6,\n",
       "       4, 5, 5, 6, 4, 5, 5, 5, 7, 6, 6, 6, 7, 7, 5, 5, 5, 5, 6, 5, 5, 6,\n",
       "       5, 6, 7, 8, 5, 6, 6, 5, 5, 5, 5, 6, 5, 6, 6, 6, 5, 6, 6, 5, 5, 5,\n",
       "       6, 6, 5, 5, 5, 5, 5, 5, 5, 6, 5, 5, 5, 6, 7, 6, 5, 6, 6, 6, 5, 6,\n",
       "       6, 5, 6, 5, 5, 5, 5, 6, 5, 5, 6, 5, 6, 5, 5, 7, 6, 5, 6, 6, 6, 5,\n",
       "       6, 6, 6, 6, 6, 6, 7, 5, 5, 4, 7, 5, 5, 6, 5, 5, 5, 5, 5, 6, 6, 6,\n",
       "       5, 5, 5, 6, 5, 6, 6, 6, 5, 5, 6, 4, 7, 6, 6, 5, 6, 5, 6, 6, 6, 6,\n",
       "       5, 5, 6, 5, 7, 6, 5, 5, 5, 5, 5, 6, 6, 6, 6, 7, 6, 7, 5, 5, 7, 6,\n",
       "       5, 5, 6, 6, 6, 7, 6, 6, 5, 6, 5, 6, 5, 5, 5, 5, 6, 5, 7, 5, 5, 6,\n",
       "       6, 6, 7, 5, 6, 5, 5, 7, 5, 6, 6, 5, 6, 5, 6, 6, 6, 7, 5, 5, 6, 6,\n",
       "       6, 6, 6, 5, 6, 6, 5, 5, 6, 6, 6, 5, 6, 5, 6, 6, 5, 5, 6, 6, 5, 6,\n",
       "       5, 6, 6, 5, 7, 6, 5, 5, 6, 7, 5, 6, 7, 5, 6, 6, 5, 6, 5, 5, 5, 6,\n",
       "       5, 8, 6, 6, 5, 6, 6, 5, 5, 6, 6, 5, 6, 6, 6, 5, 5, 5, 6, 5, 6, 7,\n",
       "       5, 5, 6, 6, 5, 6, 5, 5, 5, 7, 5, 5, 5, 5, 6, 6, 5, 5, 5, 6, 5, 6,\n",
       "       5, 6, 5, 5, 6, 6, 7, 5, 5, 6, 6, 6, 7, 5, 6, 5, 5, 6, 6, 6, 6, 6,\n",
       "       7, 5, 5, 6, 5, 5, 5, 5, 5, 5, 5, 6, 5, 6, 5, 7, 5, 5, 6, 7, 5, 6,\n",
       "       5, 6, 5, 6, 5, 6, 7, 6, 6, 5, 6, 6, 5, 5, 7, 5, 6, 5, 6, 6, 5, 5,\n",
       "       5, 5, 6, 5, 6, 6, 6, 6, 5, 5, 6, 5, 6, 6, 6, 6, 5, 5, 5, 7, 5, 5,\n",
       "       6, 6, 6, 5, 5, 6, 6, 6], dtype=int64)"
      ]
     },
     "execution_count": 87,
     "metadata": {},
     "output_type": "execute_result"
    }
   ],
   "source": [
    "pred_rfr"
   ]
  },
  {
   "cell_type": "code",
   "execution_count": 88,
   "metadata": {},
   "outputs": [
    {
     "data": {
      "text/plain": [
       "array([5, 5, 5, 6, 6, 5, 7, 7, 6, 5, 6, 7, 6, 6, 6, 5, 6, 5, 5, 6, 6, 5,\n",
       "       5, 5, 6, 5, 5, 5, 7, 5, 6, 5, 6, 5, 6, 6, 6, 6, 5, 5, 7, 6, 6, 6,\n",
       "       6, 6, 5, 6, 5, 6, 5, 5, 6, 6, 5, 6, 6, 7, 7, 7, 5, 5, 5, 5, 5, 5,\n",
       "       5, 5, 5, 5, 5, 5, 6, 6, 5, 6, 6, 6, 5, 7, 6, 6, 5, 6, 6, 5, 5, 5,\n",
       "       5, 5, 6, 6, 5, 5, 7, 6, 5, 6, 5, 6, 5, 6, 5, 7, 5, 5, 5, 6, 5, 6,\n",
       "       6, 5, 5, 7, 5, 6, 5, 5, 6, 5, 6, 5, 6, 6, 6, 5, 6, 5, 6, 5, 5, 5,\n",
       "       6, 7, 5, 7, 5, 6, 6, 7, 5, 5, 5, 5, 5, 6, 5, 6, 6, 5, 5, 6, 5, 6,\n",
       "       5, 5, 5, 5, 4, 5, 5, 6, 5, 5, 7, 6, 6, 6, 6, 5, 5, 6, 6, 5, 6, 6,\n",
       "       6, 5, 6, 5, 7, 5, 5, 5, 7, 6, 6, 6, 6, 5, 5, 6, 6, 6, 5, 7, 5, 4,\n",
       "       6, 6, 5, 6, 5, 7, 6, 5, 6, 6, 5, 6, 6, 5, 7, 5, 6, 7, 5, 6, 6, 5,\n",
       "       5, 7, 5, 6, 7, 6, 6, 5, 6, 6, 5, 5, 6, 5, 4, 5, 6, 6, 6, 5, 5, 6,\n",
       "       6, 4, 6, 5, 6, 6, 5, 5, 6, 6, 5, 5, 5, 5, 6, 5, 5, 6, 5, 7, 5, 6,\n",
       "       5, 6, 5, 5, 7, 6, 5, 6, 6, 5, 6, 5, 5, 7, 6, 5, 6, 7, 6, 6, 5, 7,\n",
       "       4, 5, 5, 5, 5, 5, 5, 5, 6, 8, 5, 6, 6, 5, 7, 5, 5, 5, 6, 5, 6, 6,\n",
       "       5, 5, 6, 7, 5, 6, 5, 6, 5, 6, 6, 5, 5, 5, 5, 6, 5, 7, 6, 5, 5, 5,\n",
       "       7, 5, 5, 6, 7, 5, 6, 5, 6, 5, 6, 6, 6, 6, 6, 5, 6, 5, 6, 5, 5, 6,\n",
       "       6, 7, 6, 7, 6, 6, 5, 6, 5, 5, 5, 8, 5, 5, 6, 6, 7, 5, 6, 5, 5, 5,\n",
       "       5, 6, 7, 7, 5, 6, 5, 7, 5, 5, 5, 7, 5, 5, 6, 5, 6, 6, 5, 5, 6, 6,\n",
       "       5, 5, 5, 6, 5, 5, 6, 6, 6, 5, 6, 6, 5, 6, 5, 6, 6, 6, 5, 6, 5, 6,\n",
       "       4, 5, 5, 6, 4, 5, 5, 5, 7, 6, 6, 6, 7, 7, 5, 5, 5, 5, 6, 5, 5, 6,\n",
       "       5, 6, 7, 8, 5, 6, 6, 5, 5, 5, 5, 6, 5, 6, 6, 6, 5, 6, 6, 5, 5, 5,\n",
       "       6, 6, 5, 5, 5, 5, 5, 5, 5, 6, 5, 5, 5, 6, 7, 6, 5, 6, 6, 6, 5, 6,\n",
       "       6, 5, 6, 5, 5, 5, 5, 6, 5, 5, 6, 5, 6, 5, 5, 7, 6, 5, 6, 6, 6, 5,\n",
       "       6, 6, 6, 6, 6, 6, 7, 5, 5, 4, 7, 5, 5, 6, 5, 5, 5, 5, 5, 6, 6, 6,\n",
       "       5, 5, 5, 6, 5, 6, 6, 6, 5, 5, 6, 4, 7, 6, 6, 5, 6, 5, 6, 6, 6, 6,\n",
       "       5, 5, 6, 5, 7, 6, 5, 5, 5, 5, 5, 6, 6, 6, 6, 7, 6, 7, 5, 5, 7, 6,\n",
       "       5, 5, 6, 6, 6, 7, 6, 6, 5, 6, 5, 6, 5, 5, 5, 5, 6, 5, 7, 5, 5, 6,\n",
       "       6, 6, 7, 5, 6, 5, 5, 7, 5, 6, 6, 5, 6, 5, 6, 6, 6, 7, 5, 5, 6, 6,\n",
       "       6, 6, 6, 5, 6, 6, 5, 5, 6, 6, 6, 5, 6, 5, 6, 6, 5, 5, 6, 6, 5, 6,\n",
       "       5, 6, 6, 5, 7, 6, 5, 5, 6, 7, 5, 6, 7, 5, 6, 6, 5, 6, 5, 5, 5, 6,\n",
       "       5, 8, 6, 6, 5, 6, 6, 5, 5, 6, 6, 5, 6, 6, 6, 5, 5, 5, 6, 5, 6, 7,\n",
       "       5, 5, 6, 6, 5, 6, 5, 5, 5, 7, 5, 5, 5, 5, 6, 6, 5, 5, 5, 6, 5, 6,\n",
       "       5, 6, 5, 5, 6, 6, 7, 5, 5, 6, 6, 6, 7, 5, 6, 5, 5, 6, 6, 6, 6, 6,\n",
       "       7, 5, 5, 6, 5, 5, 5, 5, 5, 5, 5, 6, 5, 6, 5, 7, 5, 5, 6, 7, 5, 6,\n",
       "       5, 6, 5, 6, 5, 6, 7, 6, 6, 5, 6, 6, 5, 5, 7, 5, 6, 5, 6, 6, 5, 5,\n",
       "       5, 5, 6, 5, 6, 6, 6, 6, 5, 5, 6, 5, 6, 6, 6, 6, 5, 5, 5, 7, 5, 5,\n",
       "       6, 6, 6, 5, 5, 6, 6, 6], dtype=int64)"
      ]
     },
     "execution_count": 88,
     "metadata": {},
     "output_type": "execute_result"
    }
   ],
   "source": [
    "pred_rfr"
   ]
  },
  {
   "cell_type": "code",
   "execution_count": 89,
   "metadata": {},
   "outputs": [],
   "source": [
    "from sklearn.metrics import confusion_matrix,classification_report"
   ]
  },
  {
   "cell_type": "code",
   "execution_count": 90,
   "metadata": {},
   "outputs": [
    {
     "name": "stdout",
     "output_type": "stream",
     "text": [
      "[[  0   1   4   0   0   0]\n",
      " [  0   2  13  12   1   0]\n",
      " [  0  13 210 104   5   1]\n",
      " [  2   9  91 172  36   6]\n",
      " [  1   1  16  34  54   2]\n",
      " [  0   0   0   3   6   1]]\n",
      "              precision    recall  f1-score   support\n",
      "\n",
      "           3       0.00      0.00      0.00         5\n",
      "           4       0.08      0.07      0.07        28\n",
      "           5       0.63      0.63      0.63       333\n",
      "           6       0.53      0.54      0.54       316\n",
      "           7       0.53      0.50      0.51       108\n",
      "           8       0.10      0.10      0.10        10\n",
      "\n",
      "   micro avg       0.55      0.55      0.55       800\n",
      "   macro avg       0.31      0.31      0.31       800\n",
      "weighted avg       0.55      0.55      0.55       800\n",
      "\n"
     ]
    }
   ],
   "source": [
    "print(confusion_matrix(Y_test,pred_DT))\n",
    "print(classification_report(Y_test,pred_DT))"
   ]
  },
  {
   "cell_type": "code",
   "execution_count": 91,
   "metadata": {},
   "outputs": [
    {
     "name": "stdout",
     "output_type": "stream",
     "text": [
      "[[  0   0   4   1   0   0]\n",
      " [  0   0  21   7   0   0]\n",
      " [  0   5 255  69   4   0]\n",
      " [  0   4  87 196  28   1]\n",
      " [  0   0  10  59  37   2]\n",
      " [  0   0   1   5   3   1]]\n",
      "              precision    recall  f1-score   support\n",
      "\n",
      "           3       0.00      0.00      0.00         5\n",
      "           4       0.00      0.00      0.00        28\n",
      "           5       0.67      0.77      0.72       333\n",
      "           6       0.58      0.62      0.60       316\n",
      "           7       0.51      0.34      0.41       108\n",
      "           8       0.25      0.10      0.14        10\n",
      "\n",
      "   micro avg       0.61      0.61      0.61       800\n",
      "   macro avg       0.34      0.30      0.31       800\n",
      "weighted avg       0.58      0.61      0.59       800\n",
      "\n"
     ]
    },
    {
     "name": "stderr",
     "output_type": "stream",
     "text": [
      "C:\\Users\\dear\\Anaconda2\\lib\\site-packages\\sklearn\\metrics\\classification.py:1143: UndefinedMetricWarning: Precision and F-score are ill-defined and being set to 0.0 in labels with no predicted samples.\n",
      "  'precision', 'predicted', average, warn_for)\n",
      "C:\\Users\\dear\\Anaconda2\\lib\\site-packages\\sklearn\\metrics\\classification.py:1143: UndefinedMetricWarning: Precision and F-score are ill-defined and being set to 0.0 in labels with no predicted samples.\n",
      "  'precision', 'predicted', average, warn_for)\n",
      "C:\\Users\\dear\\Anaconda2\\lib\\site-packages\\sklearn\\metrics\\classification.py:1143: UndefinedMetricWarning: Precision and F-score are ill-defined and being set to 0.0 in labels with no predicted samples.\n",
      "  'precision', 'predicted', average, warn_for)\n"
     ]
    }
   ],
   "source": [
    "print(confusion_matrix(Y_test,pred_rfr))\n",
    "print(classification_report(Y_test,pred_rfr))"
   ]
  },
  {
   "cell_type": "code",
   "execution_count": null,
   "metadata": {},
   "outputs": [],
   "source": []
  }
 ],
 "metadata": {
  "kernelspec": {
   "display_name": "Python 2",
   "language": "python",
   "name": "python2"
  },
  "language_info": {
   "codemirror_mode": {
    "name": "ipython",
    "version": 2
   },
   "file_extension": ".py",
   "mimetype": "text/x-python",
   "name": "python",
   "nbconvert_exporter": "python",
   "pygments_lexer": "ipython2",
   "version": "2.7.16"
  }
 },
 "nbformat": 4,
 "nbformat_minor": 2
}
